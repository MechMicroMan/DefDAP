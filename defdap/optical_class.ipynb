{
 "cells": [
  {
   "cell_type": "code",
   "execution_count": 1,
   "id": "55c51dcc",
   "metadata": {},
   "outputs": [],
   "source": [
    "import numpy as np\n",
    "import matplotlib.pyplot as plt\n",
    "from matplotlib.pyplot import imread\n",
    "import inspect\n",
    "\n",
    "from skimage import transform as tf\n",
    "from skimage import morphology as mph\n",
    "\n",
    "from scipy.stats import mode\n",
    "from scipy.ndimage import binary_dilation\n",
    "\n",
    "import peakutils\n",
    "\n",
    "from defdap.file_readers import DICDataLoader\n",
    "from defdap import base\n",
    "from defdap.quat import Quat\n",
    "\n",
    "from defdap import defaults\n",
    "from defdap.plotting import MapPlot, GrainPlot\n",
    "#from defdap.inspector import GrainInspector\n",
    "from defdap.utils import reportProgress\n",
    "\n",
    "%matplotlib qt5\n",
    "from defdap import quat\n",
    "from defdap import ebsd\n",
    "from defdap import hrdic\n",
    "from defdap import plotting"
   ]
  },
  {
   "cell_type": "code",
   "execution_count": 5,
   "id": "35dc0cad",
   "metadata": {},
   "outputs": [],
   "source": [
    "#defdap.plotting.MapPlot    \n",
    "def create(  \n",
    "    cls, callingMap, mapData,\n",
    "    fig=None, figParams={}, ax=None, axParams={},\n",
    "    plot=None, makeInteractive=False,\n",
    "    plotColourBar=False, vmin=None, vmax=None, cmap=None, clabel=\"\",\n",
    "    plotGBs=False, dilateBoundaries=False, boundaryColour=None,\n",
    "    plotScaleBar=False, scale=None,\n",
    "    highlightGrains=None, highlightColours=None, highlightAlpha=None,\n",
    "    **kwargs\n",
    "    ):\n",
    "    \n",
    "    if plot is None:\n",
    "        plot = cls(callingMap, fig=fig, ax=ax, axParams=axParams,\n",
    "                    makeInteractive=makeInteractive, **figParams)\n",
    "    if mapData is not None:\n",
    "        plot.addMap(mapData, cmap=cmap, vmin=vmin, vmax=vmax, **kwargs)\n",
    "    if plotColourBar:\n",
    "        plot.addColourBar(clabel)\n",
    "    if plotGBs:\n",
    "        plot.addGrainBoundaries(\n",
    "            colour=boundaryColour, dilate=dilateBoundaries, kind=plotGBs\n",
    "        )\n",
    "    if highlightGrains is not None:\n",
    "        plot.addGrainHighlights(\n",
    "            highlightGrains,\n",
    "            grainColours=highlightColours, alpha=highlightAlpha\n",
    "        )\n",
    "    if plotScaleBar:\n",
    "        plot.addScaleBar(scale=scale)\n",
    "    return plot\n",
    "\n",
    "#defdap.optical.Map\n",
    "class Map(base.Map):\n",
    "    def __init__(self, path, fname, extension='png'):\n",
    "        \"\"\"Initialise class and import DIC data from file.\n",
    "\n",
    "        Parameters\n",
    "        ----------\n",
    "        path : str\n",
    "            Path to file.\n",
    "        fname : str\n",
    "            Name of file without extension.\n",
    "        extension : str\n",
    "            File extension (default is 'png').\n",
    "        \"\"\"\n",
    "        \n",
    "        self.extension = extension\n",
    "        self.path = path                    # file path\n",
    "        self.fname = fname                  # file name\n",
    "    \n",
    "        # Call base class constructor\n",
    "        super(Map, self).__init__()\n",
    "\n",
    "        # Initialise variables\n",
    "        self.format = None      # Software name\n",
    "        self.version = None     # Software version\n",
    "        self.binning = None     # Sub-window size in pixels\n",
    "        self.xdim = None        # Size of map along x (from header)\n",
    "        self.ydim = None        # Size of map along y (from header)\n",
    "\n",
    "        self.xc = None          # x coordinates\n",
    "        self.yc = None          # y coordinates\n",
    "        self.xd = None          # x displacement\n",
    "        self.yd = None          # y displacement\n",
    "        \n",
    "        self.corrVal = None     # Correlation value\n",
    "        self.ebsdMap = None     # EBSD map linked to DIC map\n",
    "        self.ebsdTransform = None  # Transform from EBSD to DIC coordinates\n",
    "        self.ebsdTransformInv = None  # Transform from DIC to EBSD coordinates\n",
    "        self.ebsdGrainIds = None\n",
    "        self.patternImPath = None  # Path to BSE image of map\n",
    "        self.highlightAlpha = 0.6\n",
    "        self.bseScale = None  # Size of a pixel in the correlated images\n",
    "        self.patScale = None  # Size of pixel in loaded pattern relative to pixel size of DIC data\n",
    "\n",
    "        # Try to load the optical image and handle errors\n",
    "        try:\n",
    "            self.optical = plt.imread(self.path + f\"{self.fname}.{self.extension}\")\n",
    "        except FileNotFoundError:\n",
    "            print(f\"Error: File {self.fname}.{self.extension} not found in path {self.path}\")\n",
    "            self.optical = None  # Set to None if the image is not found"
   ]
  },
  {
   "cell_type": "code",
   "execution_count": 6,
   "id": "dc8e93d4",
   "metadata": {},
   "outputs": [
    {
     "data": {
      "text/plain": [
       "array(<__main__.Map object at 0x000001CA300B2400>, dtype=object)"
      ]
     },
     "execution_count": 6,
     "metadata": {},
     "output_type": "execute_result"
    }
   ],
   "source": [
    "optical = Map('./','F5-pol-Cy50')\n",
    "mapData = np.array(optical)\n",
    "mapData"
   ]
  },
  {
   "cell_type": "code",
   "execution_count": 7,
   "id": "e10c43c4",
   "metadata": {},
   "outputs": [
    {
     "ename": "TypeError",
     "evalue": "create() missing 1 required positional argument: 'cls'",
     "output_type": "error",
     "traceback": [
      "\u001b[1;31m---------------------------------------------------------------------------\u001b[0m",
      "\u001b[1;31mTypeError\u001b[0m                                 Traceback (most recent call last)",
      "Input \u001b[1;32mIn [7]\u001b[0m, in \u001b[0;36m<cell line: 1>\u001b[1;34m()\u001b[0m\n\u001b[1;32m----> 1\u001b[0m \u001b[43mcreate\u001b[49m\u001b[43m(\u001b[49m\u001b[43mcallingMap\u001b[49m\u001b[43m \u001b[49m\u001b[38;5;241;43m=\u001b[39;49m\u001b[43m \u001b[49m\u001b[43moptical\u001b[49m\u001b[43m,\u001b[49m\u001b[43mmapData\u001b[49m\u001b[38;5;241;43m=\u001b[39;49m\u001b[43mmapData\u001b[49m\u001b[43m)\u001b[49m\n",
      "\u001b[1;31mTypeError\u001b[0m: create() missing 1 required positional argument: 'cls'"
     ]
    }
   ],
   "source": [
    "create(callingMap = optical,mapData=mapData)"
   ]
  },
  {
   "cell_type": "code",
   "execution_count": null,
   "id": "f2b5eb02",
   "metadata": {},
   "outputs": [],
   "source": []
  },
  {
   "cell_type": "code",
   "execution_count": null,
   "id": "199596a2",
   "metadata": {},
   "outputs": [],
   "source": []
  },
  {
   "cell_type": "code",
   "execution_count": null,
   "id": "5ae61510",
   "metadata": {},
   "outputs": [],
   "source": []
  },
  {
   "cell_type": "code",
   "execution_count": null,
   "id": "b695a98e",
   "metadata": {},
   "outputs": [],
   "source": []
  },
  {
   "cell_type": "code",
   "execution_count": null,
   "id": "a8beec96",
   "metadata": {},
   "outputs": [],
   "source": []
  },
  {
   "cell_type": "code",
   "execution_count": null,
   "id": "8e6bb7a8",
   "metadata": {},
   "outputs": [],
   "source": []
  },
  {
   "cell_type": "code",
   "execution_count": null,
   "id": "6eff5995",
   "metadata": {},
   "outputs": [],
   "source": []
  },
  {
   "cell_type": "code",
   "execution_count": null,
   "id": "a6e94dae",
   "metadata": {},
   "outputs": [],
   "source": []
  },
  {
   "cell_type": "code",
   "execution_count": null,
   "id": "075fc669",
   "metadata": {},
   "outputs": [],
   "source": []
  },
  {
   "cell_type": "code",
   "execution_count": null,
   "id": "d3b9fded",
   "metadata": {},
   "outputs": [],
   "source": []
  },
  {
   "cell_type": "code",
   "execution_count": null,
   "id": "93a3d1f4",
   "metadata": {},
   "outputs": [],
   "source": []
  },
  {
   "cell_type": "code",
   "execution_count": null,
   "id": "88c9e5d0",
   "metadata": {},
   "outputs": [],
   "source": [
    "int('a')"
   ]
  },
  {
   "cell_type": "code",
   "execution_count": null,
   "id": "9ce4e79c",
   "metadata": {},
   "outputs": [],
   "source": [
    "    def plot_map(self,plot_axis='off', makeInteractive=False,**kwargs):\n",
    "        \"Plots the optical image stored in the instance.\"\n",
    "        if self.optical is not None:\n",
    "            plt.imshow(self.optical)\n",
    "            plt.axis(plot_axis)\n",
    "            plt.title('Optical Image')\n",
    "            plt.show()\n",
    "            return ax\n",
    "        else:\n",
    "            print(\"No optical image to display.\")\n",
    "            \n",
    "        def setHomogPoint(self, points=None, display='polarised', **kwargs):\n",
    "        \"\"\"Set homologous points. Uses interactive GUI if points is None.\n",
    "\n",
    "        Parameters\n",
    "        ----------\n",
    "        points : list, optional\n",
    "        Homologous points to set.\n",
    "        display : string, optional\n",
    "        Use max shear map if set to 'maxshear' or pattern if set to 'pattern'.\n",
    "\n",
    "        \"\"\"\n",
    "        if points is not None:\n",
    "            self.homogPoints = points\n",
    "\n",
    "        if points is None:\n",
    "            if display == 'polarised' or display == 'darkfield':\n",
    "                self.plotHomog = self.plot_map  # This plots the optical image\n",
    "                binSize = self.patScale\n",
    "                print(plotHomog)\n",
    "            else:\n",
    "                self.plotHomog = self.plot_map  # This plots the optical image\n",
    "                binSize = self.patScale\n",
    "                print(self.plotHomog)\n",
    "        # Now call the base class's setHomogPoint with the correct binSize\n",
    "            super(type(self), self).setHomogPoint(binSize=binSize, points=points, **kwargs)"
   ]
  },
  {
   "cell_type": "code",
   "execution_count": 2,
   "id": "df94bcf3",
   "metadata": {},
   "outputs": [],
   "source": [
    "class Map(base.Map):\n",
    "    def __init__(self, path, fname, extension='png'):\n",
    "        \"\"\"Initialise class and import DIC data from file.\n",
    "\n",
    "        Parameters\n",
    "        ----------\n",
    "        path : str\n",
    "            Path to file.\n",
    "        fname : str\n",
    "            Name of file without extension.\n",
    "        extension : str\n",
    "            File extension (default is 'png').\n",
    "        \"\"\"\n",
    "        \n",
    "        self.extension = extension\n",
    "        self.path = path                    # file path\n",
    "        self.fname = fname                  # file name\n",
    "    \n",
    "        # Call base class constructor\n",
    "        super(Map, self).__init__()\n",
    "\n",
    "        # Initialise variables\n",
    "        self.format = None      # Software name\n",
    "        self.version = None     # Software version\n",
    "        self.binning = None     # Sub-window size in pixels\n",
    "        self.xdim = None        # Size of map along x (from header)\n",
    "        self.ydim = None        # Size of map along y (from header)\n",
    "\n",
    "        self.xc = None          # x coordinates\n",
    "        self.yc = None          # y coordinates\n",
    "        self.xd = None          # x displacement\n",
    "        self.yd = None          # y displacement\n",
    "        \n",
    "        self.corrVal = None     # Correlation value\n",
    "        self.ebsdMap = None     # EBSD map linked to DIC map\n",
    "        self.ebsdTransform = None  # Transform from EBSD to DIC coordinates\n",
    "        self.ebsdTransformInv = None  # Transform from DIC to EBSD coordinates\n",
    "        self.ebsdGrainIds = None\n",
    "        self.patternImPath = None  # Path to BSE image of map\n",
    "        self.highlightAlpha = 0.6\n",
    "        self.bseScale = None  # Size of a pixel in the correlated images\n",
    "        self.patScale = None  # Size of pixel in loaded pattern relative to pixel size of DIC data\n",
    "\n",
    "        # Try to load the optical image and handle errors\n",
    "        try:\n",
    "            self.optical = plt.imread(self.path + f\"{self.fname}.{self.extension}\")\n",
    "        except FileNotFoundError:\n",
    "            print(f\"Error: File {self.fname}.{self.extension} not found in path {self.path}\")\n",
    "            self.optical = None  # Set to None if the image is not found\n",
    "    \n",
    "##################################################################################################################################################    \n",
    "    \n",
    "    def plot_map(self, plot_axis='off',makeInteractive=False):\n",
    "        \"\"\"Plots the optical image stored in the instance.\"\"\"\n",
    "        if self.optical is not None:\n",
    "            fig, ax = plt.subplots()\n",
    "            ax.imshow(self.optical)\n",
    "            ax.axis(plot_axis)\n",
    "            ax.set_title('Optical Image')\n",
    "            plt.show()\n",
    "            return ax  # Return the axis object for further manipulation\n",
    "        else:\n",
    "            print(\"No optical image to display.\")\n",
    "            return None\n",
    "            \n",
    "\n",
    "########################################################################################################################################################\n",
    "    def setHomogPoint(self, points=None, display='polarised', **kwargs):\n",
    "        \"\"\"Set homologous points. Uses interactive GUI if points is None.\n",
    "\n",
    "        Parameters\n",
    "        ----------\n",
    "        points : list, optional\n",
    "            Homologous points to set.\n",
    "        display : string, optional\n",
    "            Use max shear map if set to 'maxshear' or pattern if set to 'pattern'.\n",
    "        \"\"\"\n",
    "        if points is not None:\n",
    "            self.homogPoints = points\n",
    "\n",
    "        if points is None:\n",
    "            if display in ['polarised', 'darkfield']:\n",
    "                self.plotHomog = self.plot_map  # This plots the optical image\n",
    "                binSize = self.patScale\n",
    "                print(1)  # Use self.plotHomog\n",
    "            else:\n",
    "                self.plotHomog = self.plot_map  # This plots the optical image\n",
    "                binSize = self.patScale\n",
    "                print(2)  # Use self.plotHomog\n",
    "\n",
    "        # Now call the base class's setHomogPoint with the correct binSize\n",
    "        super().setHomogPoint(binSize=binSize, points=points, **kwargs)\n"
   ]
  },
  {
   "cell_type": "code",
   "execution_count": 3,
   "id": "d3d772b4",
   "metadata": {},
   "outputs": [
    {
     "data": {
      "text/plain": [
       "<AxesSubplot:title={'center':'Optical Image'}>"
      ]
     },
     "execution_count": 3,
     "metadata": {},
     "output_type": "execute_result"
    }
   ],
   "source": [
    "optical = Map('./','F5-pol-Cy50')\n",
    "optical.plot_map(plot_axis='on')"
   ]
  },
  {
   "cell_type": "code",
   "execution_count": 4,
   "id": "b7ad11b1",
   "metadata": {},
   "outputs": [
    {
     "name": "stdout",
     "output_type": "stream",
     "text": [
      "Loaded EBSD data (dimensions: 852 x 734 pixels, step size: 3.0 um)\n"
     ]
    }
   ],
   "source": [
    "EbsdMap = ebsd.Map('../EBSD_data/post_deformed/f-5-test-region')"
   ]
  },
  {
   "cell_type": "code",
   "execution_count": 5,
   "id": "6871c4d8",
   "metadata": {},
   "outputs": [
    {
     "name": "stdout",
     "output_type": "stream",
     "text": [
      "Finished building quaternion array (0:00:03) \n",
      "Finished finding grain boundaries (0:00:06) \n",
      "Finished finding grains (0:00:05) \n",
      "Finished calculating grain misorientations (0:00:10) \n",
      "Finished calculating grain average Schmid factors (0:00:00) \n"
     ]
    }
   ],
   "source": [
    "EbsdMap.buildQuatArray()\n",
    "EbsdMap.findBoundaries(boundDef = 2) #degrees\n",
    "EbsdMap.findGrains(minGrainSize = 100) #pixels\n",
    "EbsdMap.calcGrainMisOri(calcAxis = False)\n",
    "EbsdMap.calcAverageGrainSchmidFactors(loadVector=[1,0,0])\n",
    "#EbsdMap.rotateData()"
   ]
  },
  {
   "cell_type": "code",
   "execution_count": 6,
   "id": "d0cc04d2",
   "metadata": {},
   "outputs": [
    {
     "data": {
      "text/plain": [
       "<defdap.plotting.MapPlot at 0x23c852c6370>"
      ]
     },
     "execution_count": 6,
     "metadata": {},
     "output_type": "execute_result"
    }
   ],
   "source": [
    "EbsdMap.plotIPFMap([1,0,0], plotScaleBar=True)#,plotGBs= True)"
   ]
  },
  {
   "cell_type": "code",
   "execution_count": 9,
   "id": "3768e1a0",
   "metadata": {},
   "outputs": [
    {
     "name": "stdout",
     "output_type": "stream",
     "text": [
      "1\n"
     ]
    },
    {
     "ename": "AttributeError",
     "evalue": "'AxesSubplot' object has no attribute 'addPoints'",
     "output_type": "error",
     "traceback": [
      "\u001b[1;31m---------------------------------------------------------------------------\u001b[0m",
      "\u001b[1;31mAttributeError\u001b[0m                            Traceback (most recent call last)",
      "Input \u001b[1;32mIn [9]\u001b[0m, in \u001b[0;36m<cell line: 3>\u001b[1;34m()\u001b[0m\n\u001b[0;32m      1\u001b[0m EbsdMap\u001b[38;5;241m.\u001b[39mplotHomog\u001b[38;5;241m=\u001b[39mEbsdMap\u001b[38;5;241m.\u001b[39mplotBandContrastMap\n\u001b[0;32m      2\u001b[0m EbsdMap\u001b[38;5;241m.\u001b[39msetHomogPoint()\n\u001b[1;32m----> 3\u001b[0m \u001b[43moptical\u001b[49m\u001b[38;5;241;43m.\u001b[39;49m\u001b[43msetHomogPoint\u001b[49m\u001b[43m(\u001b[49m\u001b[43mdisplay\u001b[49m\u001b[38;5;241;43m=\u001b[39;49m\u001b[38;5;124;43m'\u001b[39;49m\u001b[38;5;124;43mpolarised\u001b[39;49m\u001b[38;5;124;43m'\u001b[39;49m\u001b[43m)\u001b[49m\n",
      "Input \u001b[1;32mIn [2]\u001b[0m, in \u001b[0;36mMap.setHomogPoint\u001b[1;34m(self, points, display, **kwargs)\u001b[0m\n\u001b[0;32m     89\u001b[0m         \u001b[38;5;28mprint\u001b[39m(\u001b[38;5;241m2\u001b[39m)  \u001b[38;5;66;03m# Use self.plotHomog\u001b[39;00m\n\u001b[0;32m     91\u001b[0m \u001b[38;5;66;03m# Now call the base class's setHomogPoint with the correct binSize\u001b[39;00m\n\u001b[1;32m---> 92\u001b[0m \u001b[38;5;28;43msuper\u001b[39;49m\u001b[43m(\u001b[49m\u001b[43m)\u001b[49m\u001b[38;5;241;43m.\u001b[39;49m\u001b[43msetHomogPoint\u001b[49m\u001b[43m(\u001b[49m\u001b[43mbinSize\u001b[49m\u001b[38;5;241;43m=\u001b[39;49m\u001b[43mbinSize\u001b[49m\u001b[43m,\u001b[49m\u001b[43m \u001b[49m\u001b[43mpoints\u001b[49m\u001b[38;5;241;43m=\u001b[39;49m\u001b[43mpoints\u001b[49m\u001b[43m,\u001b[49m\u001b[43m \u001b[49m\u001b[38;5;241;43m*\u001b[39;49m\u001b[38;5;241;43m*\u001b[39;49m\u001b[43mkwargs\u001b[49m\u001b[43m)\u001b[49m\n",
      "File \u001b[1;32m~\\Anaconda3\\envs\\matflow_env\\lib\\site-packages\\defdap\\base.py:266\u001b[0m, in \u001b[0;36mMap.setHomogPoint\u001b[1;34m(self, binSize, points, **kwargs)\u001b[0m\n\u001b[0;32m    262\u001b[0m     plot\u001b[38;5;241m.\u001b[39maddPoints(homogPoints[:, \u001b[38;5;241m0\u001b[39m], homogPoints[:, \u001b[38;5;241m1\u001b[39m],\n\u001b[0;32m    263\u001b[0m                    c\u001b[38;5;241m=\u001b[39m\u001b[38;5;124m'\u001b[39m\u001b[38;5;124my\u001b[39m\u001b[38;5;124m'\u001b[39m, s\u001b[38;5;241m=\u001b[39m\u001b[38;5;241m60\u001b[39m)\n\u001b[0;32m    264\u001b[0m \u001b[38;5;28;01melse\u001b[39;00m:\n\u001b[0;32m    265\u001b[0m     \u001b[38;5;66;03m# add empty points layer to update later\u001b[39;00m\n\u001b[1;32m--> 266\u001b[0m     \u001b[43mplot\u001b[49m\u001b[38;5;241;43m.\u001b[39;49m\u001b[43maddPoints\u001b[49m([\u001b[38;5;28;01mNone\u001b[39;00m], [\u001b[38;5;28;01mNone\u001b[39;00m], c\u001b[38;5;241m=\u001b[39m\u001b[38;5;124m'\u001b[39m\u001b[38;5;124my\u001b[39m\u001b[38;5;124m'\u001b[39m, s\u001b[38;5;241m=\u001b[39m\u001b[38;5;241m60\u001b[39m)\n\u001b[0;32m    268\u001b[0m \u001b[38;5;66;03m# add empty points layer for current selected point\u001b[39;00m\n\u001b[0;32m    269\u001b[0m plot\u001b[38;5;241m.\u001b[39maddPoints([\u001b[38;5;28;01mNone\u001b[39;00m], [\u001b[38;5;28;01mNone\u001b[39;00m], c\u001b[38;5;241m=\u001b[39m\u001b[38;5;124m'\u001b[39m\u001b[38;5;124mw\u001b[39m\u001b[38;5;124m'\u001b[39m, s\u001b[38;5;241m=\u001b[39m\u001b[38;5;241m60\u001b[39m, marker\u001b[38;5;241m=\u001b[39m\u001b[38;5;124m'\u001b[39m\u001b[38;5;124mx\u001b[39m\u001b[38;5;124m'\u001b[39m)\n",
      "\u001b[1;31mAttributeError\u001b[0m: 'AxesSubplot' object has no attribute 'addPoints'"
     ]
    }
   ],
   "source": [
    "EbsdMap.plotHomog=EbsdMap.plotBandContrastMap\n",
    "EbsdMap.setHomogPoint()\n",
    "optical.setHomogPoint(display='polarised')"
   ]
  },
  {
   "cell_type": "code",
   "execution_count": 11,
   "id": "643a297b",
   "metadata": {},
   "outputs": [
    {
     "ename": "TypeError",
     "evalue": "Image data of dtype object cannot be converted to float",
     "output_type": "error",
     "traceback": [
      "\u001b[1;31m---------------------------------------------------------------------------\u001b[0m",
      "\u001b[1;31mTypeError\u001b[0m                                 Traceback (most recent call last)",
      "Input \u001b[1;32mIn [11]\u001b[0m, in \u001b[0;36m<cell line: 1>\u001b[1;34m()\u001b[0m\n\u001b[1;32m----> 1\u001b[0m \u001b[43mplotting\u001b[49m\u001b[38;5;241;43m.\u001b[39;49m\u001b[43mMapPlot\u001b[49m\u001b[38;5;241;43m.\u001b[39;49m\u001b[43mcreate\u001b[49m\u001b[43m(\u001b[49m\u001b[43mbase\u001b[49m\u001b[38;5;241;43m.\u001b[39;49m\u001b[43mMap\u001b[49m\u001b[43m,\u001b[49m\u001b[43moptical\u001b[49m\u001b[43m)\u001b[49m\n",
      "File \u001b[1;32m~\\Anaconda3\\envs\\matflow_env\\lib\\site-packages\\defdap\\plotting.py:687\u001b[0m, in \u001b[0;36mMapPlot.create\u001b[1;34m(cls, callingMap, mapData, fig, figParams, ax, axParams, plot, makeInteractive, plotColourBar, vmin, vmax, cmap, clabel, plotGBs, dilateBoundaries, boundaryColour, plotScaleBar, scale, highlightGrains, highlightColours, highlightAlpha, **kwargs)\u001b[0m\n\u001b[0;32m    683\u001b[0m     plot \u001b[38;5;241m=\u001b[39m \u001b[38;5;28mcls\u001b[39m(callingMap, fig\u001b[38;5;241m=\u001b[39mfig, ax\u001b[38;5;241m=\u001b[39max, axParams\u001b[38;5;241m=\u001b[39maxParams,\n\u001b[0;32m    684\u001b[0m                makeInteractive\u001b[38;5;241m=\u001b[39mmakeInteractive, \u001b[38;5;241m*\u001b[39m\u001b[38;5;241m*\u001b[39mfigParams)\n\u001b[0;32m    686\u001b[0m \u001b[38;5;28;01mif\u001b[39;00m mapData \u001b[38;5;129;01mis\u001b[39;00m \u001b[38;5;129;01mnot\u001b[39;00m \u001b[38;5;28;01mNone\u001b[39;00m:\n\u001b[1;32m--> 687\u001b[0m     \u001b[43mplot\u001b[49m\u001b[38;5;241;43m.\u001b[39;49m\u001b[43maddMap\u001b[49m\u001b[43m(\u001b[49m\u001b[43mmapData\u001b[49m\u001b[43m,\u001b[49m\u001b[43m \u001b[49m\u001b[43mcmap\u001b[49m\u001b[38;5;241;43m=\u001b[39;49m\u001b[43mcmap\u001b[49m\u001b[43m,\u001b[49m\u001b[43m \u001b[49m\u001b[43mvmin\u001b[49m\u001b[38;5;241;43m=\u001b[39;49m\u001b[43mvmin\u001b[49m\u001b[43m,\u001b[49m\u001b[43m \u001b[49m\u001b[43mvmax\u001b[49m\u001b[38;5;241;43m=\u001b[39;49m\u001b[43mvmax\u001b[49m\u001b[43m,\u001b[49m\u001b[43m \u001b[49m\u001b[38;5;241;43m*\u001b[39;49m\u001b[38;5;241;43m*\u001b[39;49m\u001b[43mkwargs\u001b[49m\u001b[43m)\u001b[49m\n\u001b[0;32m    689\u001b[0m \u001b[38;5;28;01mif\u001b[39;00m plotColourBar:\n\u001b[0;32m    690\u001b[0m     plot\u001b[38;5;241m.\u001b[39maddColourBar(clabel)\n",
      "File \u001b[1;32m~\\Anaconda3\\envs\\matflow_env\\lib\\site-packages\\defdap\\plotting.py:359\u001b[0m, in \u001b[0;36mMapPlot.addMap\u001b[1;34m(self, mapData, vmin, vmax, cmap, **kwargs)\u001b[0m\n\u001b[0;32m    338\u001b[0m \u001b[38;5;28;01mdef\u001b[39;00m \u001b[38;5;21maddMap\u001b[39m(\u001b[38;5;28mself\u001b[39m, mapData, vmin\u001b[38;5;241m=\u001b[39m\u001b[38;5;28;01mNone\u001b[39;00m, vmax\u001b[38;5;241m=\u001b[39m\u001b[38;5;28;01mNone\u001b[39;00m, cmap\u001b[38;5;241m=\u001b[39m\u001b[38;5;124m'\u001b[39m\u001b[38;5;124mviridis\u001b[39m\u001b[38;5;124m'\u001b[39m, \u001b[38;5;241m*\u001b[39m\u001b[38;5;241m*\u001b[39mkwargs):\n\u001b[0;32m    339\u001b[0m     \u001b[38;5;124;03m\"\"\"Add a map to a plot.\u001b[39;00m\n\u001b[0;32m    340\u001b[0m \n\u001b[0;32m    341\u001b[0m \u001b[38;5;124;03m    Parameters\u001b[39;00m\n\u001b[1;32m   (...)\u001b[0m\n\u001b[0;32m    357\u001b[0m \n\u001b[0;32m    358\u001b[0m \u001b[38;5;124;03m    \"\"\"\u001b[39;00m\n\u001b[1;32m--> 359\u001b[0m     img \u001b[38;5;241m=\u001b[39m \u001b[38;5;28;43mself\u001b[39;49m\u001b[38;5;241;43m.\u001b[39;49m\u001b[43max\u001b[49m\u001b[38;5;241;43m.\u001b[39;49m\u001b[43mimshow\u001b[49m\u001b[43m(\u001b[49m\u001b[43mmapData\u001b[49m\u001b[43m,\u001b[49m\u001b[43m \u001b[49m\u001b[43mvmin\u001b[49m\u001b[38;5;241;43m=\u001b[39;49m\u001b[43mvmin\u001b[49m\u001b[43m,\u001b[49m\u001b[43m \u001b[49m\u001b[43mvmax\u001b[49m\u001b[38;5;241;43m=\u001b[39;49m\u001b[43mvmax\u001b[49m\u001b[43m,\u001b[49m\n\u001b[0;32m    360\u001b[0m \u001b[43m                         \u001b[49m\u001b[43minterpolation\u001b[49m\u001b[38;5;241;43m=\u001b[39;49m\u001b[38;5;124;43m'\u001b[39;49m\u001b[38;5;124;43mNone\u001b[39;49m\u001b[38;5;124;43m'\u001b[39;49m\u001b[43m,\u001b[49m\u001b[43m \u001b[49m\u001b[43mcmap\u001b[49m\u001b[38;5;241;43m=\u001b[39;49m\u001b[43mcmap\u001b[49m\u001b[43m,\u001b[49m\u001b[43m \u001b[49m\u001b[38;5;241;43m*\u001b[39;49m\u001b[38;5;241;43m*\u001b[39;49m\u001b[43mkwargs\u001b[49m\u001b[43m)\u001b[49m\n\u001b[0;32m    361\u001b[0m     \u001b[38;5;28mself\u001b[39m\u001b[38;5;241m.\u001b[39mdraw()\n\u001b[0;32m    363\u001b[0m     \u001b[38;5;28mself\u001b[39m\u001b[38;5;241m.\u001b[39mimgLayers\u001b[38;5;241m.\u001b[39mappend(img)\n",
      "File \u001b[1;32m~\\Anaconda3\\envs\\matflow_env\\lib\\site-packages\\matplotlib\\_api\\deprecation.py:456\u001b[0m, in \u001b[0;36mmake_keyword_only.<locals>.wrapper\u001b[1;34m(*args, **kwargs)\u001b[0m\n\u001b[0;32m    450\u001b[0m \u001b[38;5;28;01mif\u001b[39;00m \u001b[38;5;28mlen\u001b[39m(args) \u001b[38;5;241m>\u001b[39m name_idx:\n\u001b[0;32m    451\u001b[0m     warn_deprecated(\n\u001b[0;32m    452\u001b[0m         since, message\u001b[38;5;241m=\u001b[39m\u001b[38;5;124m\"\u001b[39m\u001b[38;5;124mPassing the \u001b[39m\u001b[38;5;132;01m%(name)s\u001b[39;00m\u001b[38;5;124m \u001b[39m\u001b[38;5;132;01m%(obj_type)s\u001b[39;00m\u001b[38;5;124m \u001b[39m\u001b[38;5;124m\"\u001b[39m\n\u001b[0;32m    453\u001b[0m         \u001b[38;5;124m\"\u001b[39m\u001b[38;5;124mpositionally is deprecated since Matplotlib \u001b[39m\u001b[38;5;132;01m%(since)s\u001b[39;00m\u001b[38;5;124m; the \u001b[39m\u001b[38;5;124m\"\u001b[39m\n\u001b[0;32m    454\u001b[0m         \u001b[38;5;124m\"\u001b[39m\u001b[38;5;124mparameter will become keyword-only \u001b[39m\u001b[38;5;132;01m%(removal)s\u001b[39;00m\u001b[38;5;124m.\u001b[39m\u001b[38;5;124m\"\u001b[39m,\n\u001b[0;32m    455\u001b[0m         name\u001b[38;5;241m=\u001b[39mname, obj_type\u001b[38;5;241m=\u001b[39m\u001b[38;5;124mf\u001b[39m\u001b[38;5;124m\"\u001b[39m\u001b[38;5;124mparameter of \u001b[39m\u001b[38;5;132;01m{\u001b[39;00mfunc\u001b[38;5;241m.\u001b[39m\u001b[38;5;18m__name__\u001b[39m\u001b[38;5;132;01m}\u001b[39;00m\u001b[38;5;124m()\u001b[39m\u001b[38;5;124m\"\u001b[39m)\n\u001b[1;32m--> 456\u001b[0m \u001b[38;5;28;01mreturn\u001b[39;00m \u001b[43mfunc\u001b[49m\u001b[43m(\u001b[49m\u001b[38;5;241;43m*\u001b[39;49m\u001b[43margs\u001b[49m\u001b[43m,\u001b[49m\u001b[43m \u001b[49m\u001b[38;5;241;43m*\u001b[39;49m\u001b[38;5;241;43m*\u001b[39;49m\u001b[43mkwargs\u001b[49m\u001b[43m)\u001b[49m\n",
      "File \u001b[1;32m~\\Anaconda3\\envs\\matflow_env\\lib\\site-packages\\matplotlib\\__init__.py:1412\u001b[0m, in \u001b[0;36m_preprocess_data.<locals>.inner\u001b[1;34m(ax, data, *args, **kwargs)\u001b[0m\n\u001b[0;32m   1409\u001b[0m \u001b[38;5;129m@functools\u001b[39m\u001b[38;5;241m.\u001b[39mwraps(func)\n\u001b[0;32m   1410\u001b[0m \u001b[38;5;28;01mdef\u001b[39;00m \u001b[38;5;21minner\u001b[39m(ax, \u001b[38;5;241m*\u001b[39margs, data\u001b[38;5;241m=\u001b[39m\u001b[38;5;28;01mNone\u001b[39;00m, \u001b[38;5;241m*\u001b[39m\u001b[38;5;241m*\u001b[39mkwargs):\n\u001b[0;32m   1411\u001b[0m     \u001b[38;5;28;01mif\u001b[39;00m data \u001b[38;5;129;01mis\u001b[39;00m \u001b[38;5;28;01mNone\u001b[39;00m:\n\u001b[1;32m-> 1412\u001b[0m         \u001b[38;5;28;01mreturn\u001b[39;00m \u001b[43mfunc\u001b[49m\u001b[43m(\u001b[49m\u001b[43max\u001b[49m\u001b[43m,\u001b[49m\u001b[43m \u001b[49m\u001b[38;5;241;43m*\u001b[39;49m\u001b[38;5;28;43mmap\u001b[39;49m\u001b[43m(\u001b[49m\u001b[43msanitize_sequence\u001b[49m\u001b[43m,\u001b[49m\u001b[43m \u001b[49m\u001b[43margs\u001b[49m\u001b[43m)\u001b[49m\u001b[43m,\u001b[49m\u001b[43m \u001b[49m\u001b[38;5;241;43m*\u001b[39;49m\u001b[38;5;241;43m*\u001b[39;49m\u001b[43mkwargs\u001b[49m\u001b[43m)\u001b[49m\n\u001b[0;32m   1414\u001b[0m     bound \u001b[38;5;241m=\u001b[39m new_sig\u001b[38;5;241m.\u001b[39mbind(ax, \u001b[38;5;241m*\u001b[39margs, \u001b[38;5;241m*\u001b[39m\u001b[38;5;241m*\u001b[39mkwargs)\n\u001b[0;32m   1415\u001b[0m     auto_label \u001b[38;5;241m=\u001b[39m (bound\u001b[38;5;241m.\u001b[39marguments\u001b[38;5;241m.\u001b[39mget(label_namer)\n\u001b[0;32m   1416\u001b[0m                   \u001b[38;5;129;01mor\u001b[39;00m bound\u001b[38;5;241m.\u001b[39mkwargs\u001b[38;5;241m.\u001b[39mget(label_namer))\n",
      "File \u001b[1;32m~\\Anaconda3\\envs\\matflow_env\\lib\\site-packages\\matplotlib\\axes\\_axes.py:5488\u001b[0m, in \u001b[0;36mAxes.imshow\u001b[1;34m(self, X, cmap, norm, aspect, interpolation, alpha, vmin, vmax, origin, extent, interpolation_stage, filternorm, filterrad, resample, url, **kwargs)\u001b[0m\n\u001b[0;32m   5481\u001b[0m \u001b[38;5;28mself\u001b[39m\u001b[38;5;241m.\u001b[39mset_aspect(aspect)\n\u001b[0;32m   5482\u001b[0m im \u001b[38;5;241m=\u001b[39m mimage\u001b[38;5;241m.\u001b[39mAxesImage(\u001b[38;5;28mself\u001b[39m, cmap, norm, interpolation,\n\u001b[0;32m   5483\u001b[0m                       origin, extent, filternorm\u001b[38;5;241m=\u001b[39mfilternorm,\n\u001b[0;32m   5484\u001b[0m                       filterrad\u001b[38;5;241m=\u001b[39mfilterrad, resample\u001b[38;5;241m=\u001b[39mresample,\n\u001b[0;32m   5485\u001b[0m                       interpolation_stage\u001b[38;5;241m=\u001b[39minterpolation_stage,\n\u001b[0;32m   5486\u001b[0m                       \u001b[38;5;241m*\u001b[39m\u001b[38;5;241m*\u001b[39mkwargs)\n\u001b[1;32m-> 5488\u001b[0m \u001b[43mim\u001b[49m\u001b[38;5;241;43m.\u001b[39;49m\u001b[43mset_data\u001b[49m\u001b[43m(\u001b[49m\u001b[43mX\u001b[49m\u001b[43m)\u001b[49m\n\u001b[0;32m   5489\u001b[0m im\u001b[38;5;241m.\u001b[39mset_alpha(alpha)\n\u001b[0;32m   5490\u001b[0m \u001b[38;5;28;01mif\u001b[39;00m im\u001b[38;5;241m.\u001b[39mget_clip_path() \u001b[38;5;129;01mis\u001b[39;00m \u001b[38;5;28;01mNone\u001b[39;00m:\n\u001b[0;32m   5491\u001b[0m     \u001b[38;5;66;03m# image does not already have clipping set, clip to axes patch\u001b[39;00m\n",
      "File \u001b[1;32m~\\Anaconda3\\envs\\matflow_env\\lib\\site-packages\\matplotlib\\image.py:706\u001b[0m, in \u001b[0;36m_ImageBase.set_data\u001b[1;34m(self, A)\u001b[0m\n\u001b[0;32m    702\u001b[0m \u001b[38;5;28mself\u001b[39m\u001b[38;5;241m.\u001b[39m_A \u001b[38;5;241m=\u001b[39m cbook\u001b[38;5;241m.\u001b[39msafe_masked_invalid(A, copy\u001b[38;5;241m=\u001b[39m\u001b[38;5;28;01mTrue\u001b[39;00m)\n\u001b[0;32m    704\u001b[0m \u001b[38;5;28;01mif\u001b[39;00m (\u001b[38;5;28mself\u001b[39m\u001b[38;5;241m.\u001b[39m_A\u001b[38;5;241m.\u001b[39mdtype \u001b[38;5;241m!=\u001b[39m np\u001b[38;5;241m.\u001b[39muint8 \u001b[38;5;129;01mand\u001b[39;00m\n\u001b[0;32m    705\u001b[0m         \u001b[38;5;129;01mnot\u001b[39;00m np\u001b[38;5;241m.\u001b[39mcan_cast(\u001b[38;5;28mself\u001b[39m\u001b[38;5;241m.\u001b[39m_A\u001b[38;5;241m.\u001b[39mdtype, \u001b[38;5;28mfloat\u001b[39m, \u001b[38;5;124m\"\u001b[39m\u001b[38;5;124msame_kind\u001b[39m\u001b[38;5;124m\"\u001b[39m)):\n\u001b[1;32m--> 706\u001b[0m     \u001b[38;5;28;01mraise\u001b[39;00m \u001b[38;5;167;01mTypeError\u001b[39;00m(\u001b[38;5;124m\"\u001b[39m\u001b[38;5;124mImage data of dtype \u001b[39m\u001b[38;5;132;01m{}\u001b[39;00m\u001b[38;5;124m cannot be converted to \u001b[39m\u001b[38;5;124m\"\u001b[39m\n\u001b[0;32m    707\u001b[0m                     \u001b[38;5;124m\"\u001b[39m\u001b[38;5;124mfloat\u001b[39m\u001b[38;5;124m\"\u001b[39m\u001b[38;5;241m.\u001b[39mformat(\u001b[38;5;28mself\u001b[39m\u001b[38;5;241m.\u001b[39m_A\u001b[38;5;241m.\u001b[39mdtype))\n\u001b[0;32m    709\u001b[0m \u001b[38;5;28;01mif\u001b[39;00m \u001b[38;5;28mself\u001b[39m\u001b[38;5;241m.\u001b[39m_A\u001b[38;5;241m.\u001b[39mndim \u001b[38;5;241m==\u001b[39m \u001b[38;5;241m3\u001b[39m \u001b[38;5;129;01mand\u001b[39;00m \u001b[38;5;28mself\u001b[39m\u001b[38;5;241m.\u001b[39m_A\u001b[38;5;241m.\u001b[39mshape[\u001b[38;5;241m-\u001b[39m\u001b[38;5;241m1\u001b[39m] \u001b[38;5;241m==\u001b[39m \u001b[38;5;241m1\u001b[39m:\n\u001b[0;32m    710\u001b[0m     \u001b[38;5;66;03m# If just one dimension assume scalar and apply colormap\u001b[39;00m\n\u001b[0;32m    711\u001b[0m     \u001b[38;5;28mself\u001b[39m\u001b[38;5;241m.\u001b[39m_A \u001b[38;5;241m=\u001b[39m \u001b[38;5;28mself\u001b[39m\u001b[38;5;241m.\u001b[39m_A[:, :, \u001b[38;5;241m0\u001b[39m]\n",
      "\u001b[1;31mTypeError\u001b[0m: Image data of dtype object cannot be converted to float"
     ]
    }
   ],
   "source": [
    "plotting.MapPlot.create(base.Map,optical)"
   ]
  },
  {
   "cell_type": "code",
   "execution_count": null,
   "id": "bd128e55",
   "metadata": {},
   "outputs": [],
   "source": []
  }
 ],
 "metadata": {
  "kernelspec": {
   "display_name": "Python 3 (ipykernel)",
   "language": "python",
   "name": "python3"
  },
  "language_info": {
   "codemirror_mode": {
    "name": "ipython",
    "version": 3
   },
   "file_extension": ".py",
   "mimetype": "text/x-python",
   "name": "python",
   "nbconvert_exporter": "python",
   "pygments_lexer": "ipython3",
   "version": "3.12.6"
  }
 },
 "nbformat": 4,
 "nbformat_minor": 5
}
