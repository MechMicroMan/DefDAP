{
 "cells": [
  {
   "cell_type": "code",
   "execution_count": 1,
   "id": "a167425e-fc5d-4f0d-ad30-96ab225104a9",
   "metadata": {},
   "outputs": [],
   "source": [
    "import numpy as np\n",
    "import matplotlib.pyplot as plt\n",
    "import matplotlib.image as mpimg\n",
    "%matplotlib qt5\n",
    "from defdap.file_readers import OpticalDataLoader, MatplotlibLoader\n",
    "import defdap\n",
    "from defdap import ebsd\n",
    "import optical "
   ]
  },
  {
   "cell_type": "code",
   "execution_count": 2,
   "id": "6ae24a9b-6842-4540-b36b-3795c1d85f05",
   "metadata": {},
   "outputs": [
    {
     "name": "stdout",
     "output_type": "stream",
     "text": [
      "Starting loading Optical data..Image loaded from test_data\\F5-pol-Cy50.png\n",
      "(dimensions: 1170 x 935 pixels) \n"
     ]
    }
   ],
   "source": [
    "path = \"./test_data/\"\n",
    "fname = \"F5-pol-Cy50.png\"\n",
    "metadata = \"test-meta-data.xlsx\"\n",
    "Opt = optical.Map(file_name = path+fname)#,meta_data = path + metadata)\n"
   ]
  },
  {
   "cell_type": "code",
   "execution_count": 3,
   "id": "8bcb125c-55be-4745-a22c-3578cef3f7ee",
   "metadata": {},
   "outputs": [],
   "source": [
    "Opt.set_scale (2.105) #um/pixel"
   ]
  },
  {
   "cell_type": "code",
   "execution_count": 4,
   "id": "4387f479-785f-4639-b778-b60148f849cb",
   "metadata": {},
   "outputs": [],
   "source": [
    "#Opt.set_crop (left = 10, right = 10, top = 10, bottom = 10)"
   ]
  },
  {
   "cell_type": "code",
   "execution_count": 5,
   "id": "de922a4a-44ff-45a9-8f1d-2fb99297b698",
   "metadata": {},
   "outputs": [
    {
     "data": {
      "text/plain": [
       "<defdap.plotting.MapPlot at 0x202a1f2cc50>"
      ]
     },
     "execution_count": 5,
     "metadata": {},
     "output_type": "execute_result"
    }
   ],
   "source": [
    "Opt.plot_optical_image()"
   ]
  },
  {
   "cell_type": "code",
   "execution_count": 6,
   "id": "a0eaeccb-5e58-428e-b448-903ed9bb1942",
   "metadata": {},
   "outputs": [
    {
     "name": "stdout",
     "output_type": "stream",
     "text": [
      "Loaded EBSD data (dimensions: 852 x 734 pixels, step size: 3.0 um)\n"
     ]
    }
   ],
   "source": [
    "EbsdMap = ebsd.Map(\"./test_data/f-5-test-region\")"
   ]
  },
  {
   "cell_type": "code",
   "execution_count": 7,
   "id": "254019f4-7e23-487a-9efb-7a026a4ce0b8",
   "metadata": {},
   "outputs": [],
   "source": [
    "#EbsdMap.plot_ipf_map([1,0,0])"
   ]
  },
  {
   "cell_type": "code",
   "execution_count": 8,
   "id": "6a0c8059-c551-40b6-8091-cbaacbd798e7",
   "metadata": {},
   "outputs": [
    {
     "name": "stdout",
     "output_type": "stream",
     "text": [
      "Finished building quaternion array (0:00:01) \n",
      "Finished finding grain boundaries (0:00:04) \n",
      "Finished finding grain boundaries (0:00:02) \n",
      "Finished finding grains (0:00:04) \n"
     ]
    },
    {
     "data": {
      "text/plain": [
       "array([[ 1,  1,  1, ..., 11, 11, 11],\n",
       "       [ 1,  1,  1, ..., 11, 11, 11],\n",
       "       [ 1,  1,  1, ..., 11, 11, 11],\n",
       "       ...,\n",
       "       [-2, -2, -2, ..., -2, -2, -2],\n",
       "       [-2, -2, -2, ..., -2, -2, -2],\n",
       "       [-2, -2, -2, ..., -2, -2, -2]])"
      ]
     },
     "execution_count": 8,
     "metadata": {},
     "output_type": "execute_result"
    }
   ],
   "source": [
    "#EbsdMap.calc_quat_array()\n",
    "EbsdMap.find_boundaries(misori_tol = 10) #degrees\n",
    "#EbsdMap.build_neighbour_network()\n",
    "EbsdMap.find_grains(min_grain_size = 200) #pixels\n",
    "#EbsdMap.calc_grain_mis_ori(calc_axis = False)\n",
    "#EbsdMap.calc_average_grain_schmid_factors(load_vector=[1,0,0])"
   ]
  },
  {
   "cell_type": "code",
   "execution_count": 9,
   "id": "bb9b6f7c-a22a-4ca5-83be-604b40ae67f8",
   "metadata": {},
   "outputs": [
    {
     "name": "stdout",
     "output_type": "stream",
     "text": [
      "Starting loading Optical data.."
     ]
    },
    {
     "ename": "TypeError",
     "evalue": "Map.load_data() missing 1 required positional argument: 'file_name'",
     "output_type": "error",
     "traceback": [
      "\u001b[1;31m---------------------------------------------------------------------------\u001b[0m",
      "\u001b[1;31mTypeError\u001b[0m                                 Traceback (most recent call last)",
      "Cell \u001b[1;32mIn[9], line 2\u001b[0m\n\u001b[0;32m      1\u001b[0m \u001b[38;5;66;03m#EbsdMap.set_homog_point()\u001b[39;00m\n\u001b[1;32m----> 2\u001b[0m \u001b[43mOpt\u001b[49m\u001b[38;5;241;43m.\u001b[39;49m\u001b[43mset_homog_point\u001b[49m\u001b[43m(\u001b[49m\u001b[43m)\u001b[49m\n",
      "File \u001b[1;32m~\\dev-optical\\DefDAP\\defdap\\base.py:123\u001b[0m, in \u001b[0;36mMap.set_homog_point\u001b[1;34m(self, **kwargs)\u001b[0m\n\u001b[0;32m    122\u001b[0m \u001b[38;5;28;01mdef\u001b[39;00m \u001b[38;5;21mset_homog_point\u001b[39m(\u001b[38;5;28mself\u001b[39m, \u001b[38;5;241m*\u001b[39m\u001b[38;5;241m*\u001b[39mkwargs):\n\u001b[1;32m--> 123\u001b[0m     \u001b[38;5;28;43mself\u001b[39;49m\u001b[38;5;241;43m.\u001b[39;49m\u001b[43mframe\u001b[49m\u001b[38;5;241;43m.\u001b[39;49m\u001b[43mset_homog_point\u001b[49m\u001b[43m(\u001b[49m\u001b[38;5;28;43mself\u001b[39;49m\u001b[43m,\u001b[49m\u001b[43m \u001b[49m\u001b[38;5;241;43m*\u001b[39;49m\u001b[38;5;241;43m*\u001b[39;49m\u001b[43mkwargs\u001b[49m\u001b[43m)\u001b[49m\n",
      "File \u001b[1;32m~\\dev-optical\\DefDAP\\defdap\\experiment.py:191\u001b[0m, in \u001b[0;36mFrame.set_homog_point\u001b[1;34m(self, map_obj, map_name, **kwargs)\u001b[0m\n\u001b[0;32m    188\u001b[0m     map_name \u001b[38;5;241m=\u001b[39m map_obj\u001b[38;5;241m.\u001b[39mhomog_map_name\n\u001b[0;32m    190\u001b[0m binning \u001b[38;5;241m=\u001b[39m map_obj\u001b[38;5;241m.\u001b[39mdata\u001b[38;5;241m.\u001b[39mget_metadata(map_name, \u001b[38;5;124m'\u001b[39m\u001b[38;5;124mbinning\u001b[39m\u001b[38;5;124m'\u001b[39m, \u001b[38;5;241m1\u001b[39m)\n\u001b[1;32m--> 191\u001b[0m plot \u001b[38;5;241m=\u001b[39m \u001b[43mmap_obj\u001b[49m\u001b[38;5;241;43m.\u001b[39;49m\u001b[43mplot_map\u001b[49m\u001b[43m(\u001b[49m\u001b[43mmap_name\u001b[49m\u001b[43m,\u001b[49m\u001b[43m \u001b[49m\u001b[43mmake_interactive\u001b[49m\u001b[38;5;241;43m=\u001b[39;49m\u001b[38;5;28;43;01mTrue\u001b[39;49;00m\u001b[43m,\u001b[49m\u001b[43m \u001b[49m\u001b[38;5;241;43m*\u001b[39;49m\u001b[38;5;241;43m*\u001b[39;49m\u001b[43mkwargs\u001b[49m\u001b[43m)\u001b[49m\n\u001b[0;32m    193\u001b[0m \u001b[38;5;66;03m# Plot stored homog points if there are any\u001b[39;00m\n\u001b[0;32m    194\u001b[0m \u001b[38;5;28;01mif\u001b[39;00m \u001b[38;5;28mlen\u001b[39m(\u001b[38;5;28mself\u001b[39m\u001b[38;5;241m.\u001b[39mhomog_points) \u001b[38;5;241m>\u001b[39m \u001b[38;5;241m0\u001b[39m:\n",
      "File \u001b[1;32m~\\dev-optical\\DefDAP\\defdap\\base.py:583\u001b[0m, in \u001b[0;36mMap.plot_map\u001b[1;34m(self, map_name, component, **kwargs)\u001b[0m\n\u001b[0;32m    579\u001b[0m     plot_params[\u001b[38;5;124m'\u001b[39m\u001b[38;5;124mscale\u001b[39m\u001b[38;5;124m'\u001b[39m] \u001b[38;5;241m=\u001b[39m \u001b[38;5;28mself\u001b[39m\u001b[38;5;241m.\u001b[39mscale \u001b[38;5;241m/\u001b[39m binning\n\u001b[0;32m    581\u001b[0m plot_params\u001b[38;5;241m.\u001b[39mupdate(kwargs)\n\u001b[1;32m--> 583\u001b[0m map_data \u001b[38;5;241m=\u001b[39m \u001b[38;5;28mself\u001b[39m\u001b[38;5;241m.\u001b[39m_extract_component(\u001b[38;5;28;43mself\u001b[39;49m\u001b[38;5;241;43m.\u001b[39;49m\u001b[43mdata\u001b[49m\u001b[43m[\u001b[49m\u001b[43mmap_name\u001b[49m\u001b[43m]\u001b[49m, comp)\n\u001b[0;32m    585\u001b[0m \u001b[38;5;28;01mreturn\u001b[39;00m MapPlot\u001b[38;5;241m.\u001b[39mcreate(\u001b[38;5;28mself\u001b[39m, map_data, \u001b[38;5;241m*\u001b[39m\u001b[38;5;241m*\u001b[39mplot_params)\n",
      "File \u001b[1;32m~\\dev-optical\\DefDAP\\defdap\\utils.py:169\u001b[0m, in \u001b[0;36mDatastore.__getitem__\u001b[1;34m(self, key)\u001b[0m\n\u001b[0;32m    167\u001b[0m \u001b[38;5;28;01mif\u001b[39;00m attr \u001b[38;5;241m==\u001b[39m \u001b[38;5;124m'\u001b[39m\u001b[38;5;124mdata\u001b[39m\u001b[38;5;124m'\u001b[39m \u001b[38;5;129;01mand\u001b[39;00m val \u001b[38;5;129;01mis\u001b[39;00m \u001b[38;5;28;01mNone\u001b[39;00m:\n\u001b[0;32m    168\u001b[0m     \u001b[38;5;28;01mtry\u001b[39;00m:\n\u001b[1;32m--> 169\u001b[0m         val \u001b[38;5;241m=\u001b[39m \u001b[38;5;28;43mself\u001b[39;49m\u001b[38;5;241;43m.\u001b[39;49m\u001b[43mgenerate\u001b[49m\u001b[43m(\u001b[49m\u001b[43mkey\u001b[49m\u001b[43m,\u001b[49m\u001b[43m \u001b[49m\u001b[43mreturn_val\u001b[49m\u001b[38;5;241;43m=\u001b[39;49m\u001b[38;5;28;43;01mTrue\u001b[39;49;00m\u001b[43m)\u001b[49m\n\u001b[0;32m    170\u001b[0m     \u001b[38;5;28;01mexcept\u001b[39;00m DataGenerationError:\n\u001b[0;32m    171\u001b[0m         \u001b[38;5;66;03m# No generator found\u001b[39;00m\n\u001b[0;32m    172\u001b[0m         \u001b[38;5;28;01mpass\u001b[39;00m\n",
      "File \u001b[1;32m~\\dev-optical\\DefDAP\\defdap\\utils.py:383\u001b[0m, in \u001b[0;36mDatastore.generate\u001b[1;34m(self, key, return_val, **kwargs)\u001b[0m\n\u001b[0;32m    380\u001b[0m \u001b[38;5;28;01mif\u001b[39;00m key \u001b[38;5;129;01mnot\u001b[39;00m \u001b[38;5;129;01min\u001b[39;00m keys:\n\u001b[0;32m    381\u001b[0m     \u001b[38;5;28;01mcontinue\u001b[39;00m\n\u001b[1;32m--> 383\u001b[0m datas \u001b[38;5;241m=\u001b[39m \u001b[43mgenerator\u001b[49m\u001b[43m(\u001b[49m\u001b[38;5;241;43m*\u001b[39;49m\u001b[38;5;241;43m*\u001b[39;49m\u001b[43mkwargs\u001b[49m\u001b[43m)\u001b[49m\n\u001b[0;32m    384\u001b[0m \u001b[38;5;28;01mif\u001b[39;00m \u001b[38;5;28mlen\u001b[39m(keys) \u001b[38;5;241m==\u001b[39m \u001b[38;5;241m1\u001b[39m:\n\u001b[0;32m    385\u001b[0m     \u001b[38;5;28;01mif\u001b[39;00m \u001b[38;5;28mself\u001b[39m\u001b[38;5;241m.\u001b[39mget_metadata(key, \u001b[38;5;124m'\u001b[39m\u001b[38;5;124msave\u001b[39m\u001b[38;5;124m'\u001b[39m, \u001b[38;5;28;01mTrue\u001b[39;00m):\n",
      "File \u001b[1;32m~\\dev-optical\\DefDAP\\defdap\\utils.py:42\u001b[0m, in \u001b[0;36mreport_progress.<locals>.decorator.<locals>.wrapper\u001b[1;34m(*args, **kwargs)\u001b[0m\n\u001b[0;32m     40\u001b[0m \u001b[38;5;28mprint\u001b[39m(messageStart, end\u001b[38;5;241m=\u001b[39m\u001b[38;5;124m\"\u001b[39m\u001b[38;5;124m\"\u001b[39m)\n\u001b[0;32m     41\u001b[0m \u001b[38;5;66;03m# The yield statements in the function produces a generator\u001b[39;00m\n\u001b[1;32m---> 42\u001b[0m generator \u001b[38;5;241m=\u001b[39m \u001b[43mfunc\u001b[49m\u001b[43m(\u001b[49m\u001b[38;5;241;43m*\u001b[39;49m\u001b[43margs\u001b[49m\u001b[43m,\u001b[49m\u001b[43m \u001b[49m\u001b[38;5;241;43m*\u001b[39;49m\u001b[38;5;241;43m*\u001b[39;49m\u001b[43mkwargs\u001b[49m\u001b[43m)\u001b[49m\n\u001b[0;32m     43\u001b[0m progPrev \u001b[38;5;241m=\u001b[39m \u001b[38;5;241m0.\u001b[39m\n\u001b[0;32m     44\u001b[0m printFinal \u001b[38;5;241m=\u001b[39m \u001b[38;5;28;01mTrue\u001b[39;00m\n",
      "\u001b[1;31mTypeError\u001b[0m: Map.load_data() missing 1 required positional argument: 'file_name'"
     ]
    }
   ],
   "source": [
    "#EbsdMap.set_homog_point()\n",
    "Opt.set_homog_point()"
   ]
  },
  {
   "cell_type": "code",
   "execution_count": null,
   "id": "e8032bfb-1f04-4ffc-9ad4-20a47b3bb9e9",
   "metadata": {},
   "outputs": [],
   "source": []
  }
 ],
 "metadata": {
  "kernelspec": {
   "display_name": "Python 3 (ipykernel)",
   "language": "python",
   "name": "python3"
  },
  "language_info": {
   "codemirror_mode": {
    "name": "ipython",
    "version": 3
   },
   "file_extension": ".py",
   "mimetype": "text/x-python",
   "name": "python",
   "nbconvert_exporter": "python",
   "pygments_lexer": "ipython3",
   "version": "3.12.6"
  }
 },
 "nbformat": 4,
 "nbformat_minor": 5
}
