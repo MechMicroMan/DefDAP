{
 "cells": [
  {
   "cell_type": "code",
   "execution_count": 1,
   "id": "a167425e-fc5d-4f0d-ad30-96ab225104a9",
   "metadata": {},
   "outputs": [],
   "source": [
    "from defdap import ebsd, optical\n",
    "import matplotlib.pyplot as plt\n",
    "from defdap import plotting\n",
    "import numpy as np\n",
    "import defdap\n",
    "%matplotlib tk"
   ]
  },
  {
   "cell_type": "code",
   "execution_count": 2,
   "id": "a9b4bfb9",
   "metadata": {},
   "outputs": [
    {
     "data": {
      "text/plain": [
       "'C:\\\\Users\\\\mbgm5pc3\\\\DF_analysis\\\\DefDAP\\\\notebooks'"
      ]
     },
     "execution_count": 2,
     "metadata": {},
     "output_type": "execute_result"
    }
   ],
   "source": [
    "pwd"
   ]
  },
  {
   "cell_type": "code",
   "execution_count": 3,
   "id": "6ae24a9b-6842-4540-b36b-3795c1d85f05",
   "metadata": {},
   "outputs": [
    {
     "name": "stdout",
     "output_type": "stream",
     "text": [
      "(dimensions: 1170 x 935 pixels)\n"
     ]
    }
   ],
   "source": [
    "path = \"../tests/data/\"\n",
    "fname = \"F5-pol-Cy50.png\"\n",
    "# metadata = \"test-meta-data.xlsx\"\n",
    "optical_map = optical.Map(file_name = path + fname)"
   ]
  },
  {
   "cell_type": "code",
   "execution_count": 4,
   "id": "8bcb125c-55be-4745-a22c-3578cef3f7ee",
   "metadata": {},
   "outputs": [],
   "source": [
    "optical_map.set_scale(2.105) #um/pixel"
   ]
  },
  {
   "cell_type": "code",
   "execution_count": 5,
   "id": "4387f479-785f-4639-b778-b60148f849cb",
   "metadata": {},
   "outputs": [],
   "source": [
    "#Opt.set_crop (left = 10, right = 10, top = 10, bottom = 10)"
   ]
  },
  {
   "cell_type": "code",
   "execution_count": 6,
   "id": "de922a4a-44ff-45a9-8f1d-2fb99297b698",
   "metadata": {},
   "outputs": [],
   "source": [
    "#optical_map.plot_map('image', plot_scale_bar=True)"
   ]
  },
  {
   "cell_type": "code",
   "execution_count": 7,
   "id": "a0eaeccb-5e58-428e-b448-903ed9bb1942",
   "metadata": {},
   "outputs": [
    {
     "name": "stdout",
     "output_type": "stream",
     "text": [
      "Loaded EBSD data (dimensions: 852 x 734 pixels, step size: 3.0 um)\n"
     ]
    }
   ],
   "source": [
    "ebsd_map = ebsd.Map(path + \"f-5-test-region\")"
   ]
  },
  {
   "cell_type": "code",
   "execution_count": 8,
   "id": "2a53dd86",
   "metadata": {},
   "outputs": [
    {
     "name": "stdout",
     "output_type": "stream",
     "text": [
      "Finished building quaternion array (0:00:06) \n",
      "Finished finding grain boundaries (0:00:15) \n",
      "Finished finding grains (0:00:06) \n"
     ]
    }
   ],
   "source": [
    "ebsd_map.data.generate('grain_boundaries', misori_tol=10)\n",
    "ebsd_map.data.generate('grains', min_grain_size=200)"
   ]
  },
  {
   "cell_type": "code",
   "execution_count": 9,
   "id": "df57b528",
   "metadata": {},
   "outputs": [],
   "source": [
    "#ebsd_map.plot_map('orientation', 'IPF_x', plot_scale_bar=True)"
   ]
  },
  {
   "cell_type": "code",
   "execution_count": 10,
   "id": "bb9b6f7c-a22a-4ca5-83be-604b40ae67f8",
   "metadata": {},
   "outputs": [],
   "source": [
    "#ebsd_map.set_homog_point(map_name=\"orientation\", component='IPF_z')\n",
    "#optical_map.set_homog_point()"
   ]
  },
  {
   "cell_type": "code",
   "execution_count": 11,
   "id": "e8032bfb-1f04-4ffc-9ad4-20a47b3bb9e9",
   "metadata": {},
   "outputs": [
    {
     "name": "stdout",
     "output_type": "stream",
     "text": [
      "[]\n",
      "[]\n"
     ]
    }
   ],
   "source": [
    "print(ebsd_map.frame.homog_points)\n",
    "print(optical_map.frame.homog_points)"
   ]
  },
  {
   "cell_type": "code",
   "execution_count": 12,
   "id": "4083f81f",
   "metadata": {},
   "outputs": [],
   "source": [
    "ebsd_map.frame.homog_points = [\n",
    "    (314, 533), \n",
    "    (543, 242), \n",
    "    (97, 143)\n",
    "]\n",
    "optical_map.frame.homog_points = [\n",
    "    (467, 653), \n",
    "    (806, 239), \n",
    "    (180, 94)\n",
    "]"
   ]
  },
  {
   "cell_type": "code",
   "execution_count": 13,
   "id": "df2355a3",
   "metadata": {},
   "outputs": [],
   "source": [
    "optical_map.link_ebsd_map(ebsd_map, transform_type=\"affine\")"
   ]
  },
  {
   "cell_type": "code",
   "execution_count": 14,
   "id": "f3868080",
   "metadata": {},
   "outputs": [
    {
     "name": "stdout",
     "output_type": "stream",
     "text": [
      "Finished finding grains (0:00:00) \n"
     ]
    }
   ],
   "source": [
    "optical_map.data.generate('grains', min_grain_size=10, algorithm='warp')"
   ]
  },
  {
   "cell_type": "code",
   "execution_count": 15,
   "id": "95a897d4",
   "metadata": {},
   "outputs": [],
   "source": [
    "#optical_map.plot_map('image', plot_scale_bar=True, plot_gbs='pixel')"
   ]
  },
  {
   "cell_type": "code",
   "execution_count": 16,
   "id": "45efae0c",
   "metadata": {},
   "outputs": [
    {
     "name": "stdout",
     "output_type": "stream",
     "text": [
      "Datastore\n",
      "  image\n",
      "  proxigram\n",
      "  grains\n",
      "  Derived data:\n",
      "    phase_boundaries\n",
      "    grain_boundaries\n",
      "    point\n",
      "Datastore\n",
      "  point\n",
      "  Derived data:\n",
      "    image\n",
      "    proxigram\n",
      "    grains\n"
     ]
    }
   ],
   "source": [
    "# data available for map\n",
    "print(optical_map.data)\n",
    "# data available for grain\n",
    "print(optical_map[20].data)"
   ]
  },
  {
   "cell_type": "code",
   "execution_count": 17,
   "id": "a9a65d90",
   "metadata": {},
   "outputs": [],
   "source": [
    "#optical_map.locate_grain()"
   ]
  },
  {
   "cell_type": "code",
   "execution_count": 18,
   "id": "b955afea",
   "metadata": {},
   "outputs": [],
   "source": [
    "grain = optical_map[0]\n",
    "#grain.plot_grain_data(grain_data=grain.data.image)"
   ]
  },
  {
   "cell_type": "code",
   "execution_count": 19,
   "id": "4a647a29",
   "metadata": {},
   "outputs": [
    {
     "data": {
      "text/plain": [
       "[np.float64(2.999151474212655),\n",
       " np.float64(1.0753148211635188),\n",
       " np.float64(3.0851021670346883),\n",
       " np.float64(1.8888338214513343),\n",
       " np.float64(1.4904308647148845),\n",
       " np.float64(2.1774646990300246),\n",
       " np.float64(0.7713158756193379),\n",
       " np.float64(1.4627577132738598),\n",
       " np.float64(0.023630610288391658),\n",
       " np.float64(3.0570717723901626)]"
      ]
     },
     "execution_count": 19,
     "metadata": {},
     "output_type": "execute_result"
    }
   ],
   "source": [
    "grain.slip_traces"
   ]
  },
  {
   "cell_type": "code",
   "execution_count": 20,
   "id": "62d67bd5-a5bd-4a7e-8948-b405ca58f6d7",
   "metadata": {},
   "outputs": [],
   "source": [
    "from defdap.plotting import Plot, GrainPlot, MapPlot\n",
    "from matplotlib import gridspec"
   ]
  },
  {
   "cell_type": "code",
   "execution_count": 24,
   "id": "0ad2c033-9c5d-4f77-b870-dec10b645e10",
   "metadata": {},
   "outputs": [],
   "source": [
    "optical_map.grain_inspector()"
   ]
  },
  {
   "cell_type": "code",
   "execution_count": 22,
   "id": "c7ae2f85-50c2-4072-a9cd-37723f18cc24",
   "metadata": {},
   "outputs": [
    {
     "data": {
      "text/plain": [
       "defdap.plotting.GrainPlot"
      ]
     },
     "execution_count": 22,
     "metadata": {},
     "output_type": "execute_result"
    }
   ],
   "source": [
    "GrainPlot"
   ]
  },
  {
   "cell_type": "code",
   "execution_count": 23,
   "id": "e5844b01-86c3-4830-a078-2976dfaeeaaf",
   "metadata": {},
   "outputs": [
    {
     "name": "stderr",
     "output_type": "stream",
     "text": [
      "Traceback (most recent call last):\n",
      "  File \"C:\\Users\\mbgm5pc3\\DF_analysis\\Lib\\site-packages\\matplotlib\\cbook.py\", line 298, in process\n",
      "    func(*args, **kwargs)\n",
      "  File \"C:\\Users\\mbgm5pc3\\DF_analysis\\Lib\\site-packages\\matplotlib\\widgets.py\", line 244, in <lambda>\n",
      "    return self._observers.connect('clicked', lambda event: func(event))\n",
      "                                                            ^^^^^^^^^^^\n",
      "  File \"C:\\Users\\mbgm5pc3\\DF_analysis\\DefDAP\\defdap\\plotting.py\", line 126, in <lambda>\n",
      "    btn.on_clicked(lambda e: click_handler(e, self))\n",
      "                             ^^^^^^^^^^^^^^^^^^^^^^\n",
      "  File \"C:\\Users\\mbgm5pc3\\DF_analysis\\DefDAP\\defdap\\inspector_optical.py\", line 64, in <lambda>\n",
      "    'Next\\nGrain', lambda e, p: self.goto_grain(self.grain_id + 1, p), (div_frac + 0.06, 0.94, 0.05, 0.04))\n",
      "                                ^^^^^^^^^^^^^^^^^^^^^^^^^^^^^^^^^^^^^\n",
      "  File \"C:\\Users\\mbgm5pc3\\DF_analysis\\DefDAP\\defdap\\inspector_optical.py\", line 110, in goto_grain\n",
      "    self.redraw()\n",
      "  File \"C:\\Users\\mbgm5pc3\\DF_analysis\\DefDAP\\defdap\\inspector_optical.py\", line 237, in redraw\n",
      "    self.selected_ebsd_grain.plot_unit_cell(fig=self.plot.fig, ax=self.unit_cell_axis)\n",
      "  File \"C:\\Users\\mbgm5pc3\\DF_analysis\\DefDAP\\defdap\\ebsd.py\", line 1365, in plot_unit_cell\n",
      "    plot = Quat.plot_unit_cell(self.ref_ori, fig=fig, ax=ax, plot=plot,\n",
      "           ^^^^^^^^^^^^^^^^^^^^^^^^^^^^^^^^^^^^^^^^^^^^^^^^^^^^^^^^^^^^\n",
      "  File \"C:\\Users\\mbgm5pc3\\DF_analysis\\DefDAP\\defdap\\quat.py\", line 557, in plot_unit_cell\n",
      "    eulerAngles = self.euler_angles()\n",
      "                  ^^^^^^^^^^^^^^^^^\n",
      "AttributeError: 'NoneType' object has no attribute 'euler_angles'\n",
      "Traceback (most recent call last):\n",
      "  File \"C:\\Users\\mbgm5pc3\\DF_analysis\\Lib\\site-packages\\matplotlib\\cbook.py\", line 298, in process\n",
      "    func(*args, **kwargs)\n",
      "  File \"C:\\Users\\mbgm5pc3\\DF_analysis\\Lib\\site-packages\\matplotlib\\widgets.py\", line 244, in <lambda>\n",
      "    return self._observers.connect('clicked', lambda event: func(event))\n",
      "                                                            ^^^^^^^^^^^\n",
      "  File \"C:\\Users\\mbgm5pc3\\DF_analysis\\DefDAP\\defdap\\plotting.py\", line 126, in <lambda>\n",
      "    btn.on_clicked(lambda e: click_handler(e, self))\n",
      "                             ^^^^^^^^^^^^^^^^^^^^^^\n",
      "  File \"C:\\Users\\mbgm5pc3\\DF_analysis\\DefDAP\\defdap\\inspector_optical.py\", line 64, in <lambda>\n",
      "    'Next\\nGrain', lambda e, p: self.goto_grain(self.grain_id + 1, p), (div_frac + 0.06, 0.94, 0.05, 0.04))\n",
      "                                ^^^^^^^^^^^^^^^^^^^^^^^^^^^^^^^^^^^^^\n",
      "  File \"C:\\Users\\mbgm5pc3\\DF_analysis\\DefDAP\\defdap\\inspector_optical.py\", line 110, in goto_grain\n",
      "    self.redraw()\n",
      "  File \"C:\\Users\\mbgm5pc3\\DF_analysis\\DefDAP\\defdap\\inspector_optical.py\", line 237, in redraw\n",
      "    self.selected_ebsd_grain.plot_unit_cell(fig=self.plot.fig, ax=self.unit_cell_axis)\n",
      "  File \"C:\\Users\\mbgm5pc3\\DF_analysis\\DefDAP\\defdap\\ebsd.py\", line 1365, in plot_unit_cell\n",
      "    plot = Quat.plot_unit_cell(self.ref_ori, fig=fig, ax=ax, plot=plot,\n",
      "           ^^^^^^^^^^^^^^^^^^^^^^^^^^^^^^^^^^^^^^^^^^^^^^^^^^^^^^^^^^^^\n",
      "  File \"C:\\Users\\mbgm5pc3\\DF_analysis\\DefDAP\\defdap\\quat.py\", line 557, in plot_unit_cell\n",
      "    eulerAngles = self.euler_angles()\n",
      "                  ^^^^^^^^^^^^^^^^^\n",
      "AttributeError: 'NoneType' object has no attribute 'euler_angles'\n",
      "Traceback (most recent call last):\n",
      "  File \"C:\\Users\\mbgm5pc3\\DF_analysis\\Lib\\site-packages\\matplotlib\\cbook.py\", line 298, in process\n",
      "    func(*args, **kwargs)\n",
      "  File \"C:\\Users\\mbgm5pc3\\DF_analysis\\Lib\\site-packages\\matplotlib\\widgets.py\", line 244, in <lambda>\n",
      "    return self._observers.connect('clicked', lambda event: func(event))\n",
      "                                                            ^^^^^^^^^^^\n",
      "  File \"C:\\Users\\mbgm5pc3\\DF_analysis\\DefDAP\\defdap\\plotting.py\", line 126, in <lambda>\n",
      "    btn.on_clicked(lambda e: click_handler(e, self))\n",
      "                             ^^^^^^^^^^^^^^^^^^^^^^\n",
      "  File \"C:\\Users\\mbgm5pc3\\DF_analysis\\DefDAP\\defdap\\inspector_optical.py\", line 64, in <lambda>\n",
      "    'Next\\nGrain', lambda e, p: self.goto_grain(self.grain_id + 1, p), (div_frac + 0.06, 0.94, 0.05, 0.04))\n",
      "                                ^^^^^^^^^^^^^^^^^^^^^^^^^^^^^^^^^^^^^\n",
      "  File \"C:\\Users\\mbgm5pc3\\DF_analysis\\DefDAP\\defdap\\inspector_optical.py\", line 110, in goto_grain\n",
      "    self.redraw()\n",
      "  File \"C:\\Users\\mbgm5pc3\\DF_analysis\\DefDAP\\defdap\\inspector_optical.py\", line 237, in redraw\n",
      "    self.selected_ebsd_grain.plot_unit_cell(fig=self.plot.fig, ax=self.unit_cell_axis)\n",
      "  File \"C:\\Users\\mbgm5pc3\\DF_analysis\\DefDAP\\defdap\\ebsd.py\", line 1365, in plot_unit_cell\n",
      "    plot = Quat.plot_unit_cell(self.ref_ori, fig=fig, ax=ax, plot=plot,\n",
      "           ^^^^^^^^^^^^^^^^^^^^^^^^^^^^^^^^^^^^^^^^^^^^^^^^^^^^^^^^^^^^\n",
      "  File \"C:\\Users\\mbgm5pc3\\DF_analysis\\DefDAP\\defdap\\quat.py\", line 557, in plot_unit_cell\n",
      "    eulerAngles = self.euler_angles()\n",
      "                  ^^^^^^^^^^^^^^^^^\n",
      "AttributeError: 'NoneType' object has no attribute 'euler_angles'\n",
      "Traceback (most recent call last):\n",
      "  File \"C:\\Users\\mbgm5pc3\\DF_analysis\\Lib\\site-packages\\matplotlib\\cbook.py\", line 298, in process\n",
      "    func(*args, **kwargs)\n",
      "  File \"C:\\Users\\mbgm5pc3\\DF_analysis\\Lib\\site-packages\\matplotlib\\widgets.py\", line 244, in <lambda>\n",
      "    return self._observers.connect('clicked', lambda event: func(event))\n",
      "                                                            ^^^^^^^^^^^\n",
      "  File \"C:\\Users\\mbgm5pc3\\DF_analysis\\DefDAP\\defdap\\plotting.py\", line 126, in <lambda>\n",
      "    btn.on_clicked(lambda e: click_handler(e, self))\n",
      "                             ^^^^^^^^^^^^^^^^^^^^^^\n",
      "  File \"C:\\Users\\mbgm5pc3\\DF_analysis\\DefDAP\\defdap\\inspector_optical.py\", line 64, in <lambda>\n",
      "    'Next\\nGrain', lambda e, p: self.goto_grain(self.grain_id + 1, p), (div_frac + 0.06, 0.94, 0.05, 0.04))\n",
      "                                ^^^^^^^^^^^^^^^^^^^^^^^^^^^^^^^^^^^^^\n",
      "  File \"C:\\Users\\mbgm5pc3\\DF_analysis\\DefDAP\\defdap\\inspector_optical.py\", line 110, in goto_grain\n",
      "    self.redraw()\n",
      "  File \"C:\\Users\\mbgm5pc3\\DF_analysis\\DefDAP\\defdap\\inspector_optical.py\", line 237, in redraw\n",
      "    self.selected_ebsd_grain.plot_unit_cell(fig=self.plot.fig, ax=self.unit_cell_axis)\n",
      "  File \"C:\\Users\\mbgm5pc3\\DF_analysis\\DefDAP\\defdap\\ebsd.py\", line 1365, in plot_unit_cell\n",
      "    plot = Quat.plot_unit_cell(self.ref_ori, fig=fig, ax=ax, plot=plot,\n",
      "           ^^^^^^^^^^^^^^^^^^^^^^^^^^^^^^^^^^^^^^^^^^^^^^^^^^^^^^^^^^^^\n",
      "  File \"C:\\Users\\mbgm5pc3\\DF_analysis\\DefDAP\\defdap\\quat.py\", line 557, in plot_unit_cell\n",
      "    eulerAngles = self.euler_angles()\n",
      "                  ^^^^^^^^^^^^^^^^^\n",
      "AttributeError: 'NoneType' object has no attribute 'euler_angles'\n",
      "Traceback (most recent call last):\n",
      "  File \"C:\\Users\\mbgm5pc3\\DF_analysis\\Lib\\site-packages\\matplotlib\\cbook.py\", line 298, in process\n",
      "    func(*args, **kwargs)\n",
      "  File \"C:\\Users\\mbgm5pc3\\DF_analysis\\Lib\\site-packages\\matplotlib\\widgets.py\", line 244, in <lambda>\n",
      "    return self._observers.connect('clicked', lambda event: func(event))\n",
      "                                                            ^^^^^^^^^^^\n",
      "  File \"C:\\Users\\mbgm5pc3\\DF_analysis\\DefDAP\\defdap\\plotting.py\", line 126, in <lambda>\n",
      "    btn.on_clicked(lambda e: click_handler(e, self))\n",
      "                             ^^^^^^^^^^^^^^^^^^^^^^\n",
      "  File \"C:\\Users\\mbgm5pc3\\DF_analysis\\DefDAP\\defdap\\inspector_optical.py\", line 64, in <lambda>\n",
      "    'Next\\nGrain', lambda e, p: self.goto_grain(self.grain_id + 1, p), (div_frac + 0.06, 0.94, 0.05, 0.04))\n",
      "                                ^^^^^^^^^^^^^^^^^^^^^^^^^^^^^^^^^^^^^\n",
      "  File \"C:\\Users\\mbgm5pc3\\DF_analysis\\DefDAP\\defdap\\inspector_optical.py\", line 110, in goto_grain\n",
      "    self.redraw()\n",
      "  File \"C:\\Users\\mbgm5pc3\\DF_analysis\\DefDAP\\defdap\\inspector_optical.py\", line 237, in redraw\n",
      "    self.selected_ebsd_grain.plot_unit_cell(fig=self.plot.fig, ax=self.unit_cell_axis)\n",
      "  File \"C:\\Users\\mbgm5pc3\\DF_analysis\\DefDAP\\defdap\\ebsd.py\", line 1365, in plot_unit_cell\n",
      "    plot = Quat.plot_unit_cell(self.ref_ori, fig=fig, ax=ax, plot=plot,\n",
      "           ^^^^^^^^^^^^^^^^^^^^^^^^^^^^^^^^^^^^^^^^^^^^^^^^^^^^^^^^^^^^\n",
      "  File \"C:\\Users\\mbgm5pc3\\DF_analysis\\DefDAP\\defdap\\quat.py\", line 557, in plot_unit_cell\n",
      "    eulerAngles = self.euler_angles()\n",
      "                  ^^^^^^^^^^^^^^^^^\n",
      "AttributeError: 'NoneType' object has no attribute 'euler_angles'\n",
      "Traceback (most recent call last):\n",
      "  File \"C:\\Users\\mbgm5pc3\\DF_analysis\\Lib\\site-packages\\matplotlib\\cbook.py\", line 298, in process\n",
      "    func(*args, **kwargs)\n",
      "  File \"C:\\Users\\mbgm5pc3\\DF_analysis\\Lib\\site-packages\\matplotlib\\widgets.py\", line 244, in <lambda>\n",
      "    return self._observers.connect('clicked', lambda event: func(event))\n",
      "                                                            ^^^^^^^^^^^\n",
      "  File \"C:\\Users\\mbgm5pc3\\DF_analysis\\DefDAP\\defdap\\plotting.py\", line 126, in <lambda>\n",
      "    btn.on_clicked(lambda e: click_handler(e, self))\n",
      "                             ^^^^^^^^^^^^^^^^^^^^^^\n",
      "  File \"C:\\Users\\mbgm5pc3\\DF_analysis\\DefDAP\\defdap\\inspector_optical.py\", line 64, in <lambda>\n",
      "    'Next\\nGrain', lambda e, p: self.goto_grain(self.grain_id + 1, p), (div_frac + 0.06, 0.94, 0.05, 0.04))\n",
      "                                ^^^^^^^^^^^^^^^^^^^^^^^^^^^^^^^^^^^^^\n",
      "  File \"C:\\Users\\mbgm5pc3\\DF_analysis\\DefDAP\\defdap\\inspector_optical.py\", line 110, in goto_grain\n",
      "    self.redraw()\n",
      "  File \"C:\\Users\\mbgm5pc3\\DF_analysis\\DefDAP\\defdap\\inspector_optical.py\", line 237, in redraw\n",
      "    self.selected_ebsd_grain.plot_unit_cell(fig=self.plot.fig, ax=self.unit_cell_axis)\n",
      "  File \"C:\\Users\\mbgm5pc3\\DF_analysis\\DefDAP\\defdap\\ebsd.py\", line 1365, in plot_unit_cell\n",
      "    plot = Quat.plot_unit_cell(self.ref_ori, fig=fig, ax=ax, plot=plot,\n",
      "           ^^^^^^^^^^^^^^^^^^^^^^^^^^^^^^^^^^^^^^^^^^^^^^^^^^^^^^^^^^^^\n",
      "  File \"C:\\Users\\mbgm5pc3\\DF_analysis\\DefDAP\\defdap\\quat.py\", line 557, in plot_unit_cell\n",
      "    eulerAngles = self.euler_angles()\n",
      "                  ^^^^^^^^^^^^^^^^^\n",
      "AttributeError: 'NoneType' object has no attribute 'euler_angles'\n",
      "Traceback (most recent call last):\n",
      "  File \"C:\\Users\\mbgm5pc3\\DF_analysis\\Lib\\site-packages\\matplotlib\\cbook.py\", line 298, in process\n",
      "    func(*args, **kwargs)\n",
      "  File \"C:\\Users\\mbgm5pc3\\DF_analysis\\Lib\\site-packages\\matplotlib\\widgets.py\", line 244, in <lambda>\n",
      "    return self._observers.connect('clicked', lambda event: func(event))\n",
      "                                                            ^^^^^^^^^^^\n",
      "  File \"C:\\Users\\mbgm5pc3\\DF_analysis\\DefDAP\\defdap\\plotting.py\", line 126, in <lambda>\n",
      "    btn.on_clicked(lambda e: click_handler(e, self))\n",
      "                             ^^^^^^^^^^^^^^^^^^^^^^\n",
      "  File \"C:\\Users\\mbgm5pc3\\DF_analysis\\DefDAP\\defdap\\inspector_optical.py\", line 64, in <lambda>\n",
      "    'Next\\nGrain', lambda e, p: self.goto_grain(self.grain_id + 1, p), (div_frac + 0.06, 0.94, 0.05, 0.04))\n",
      "                                ^^^^^^^^^^^^^^^^^^^^^^^^^^^^^^^^^^^^^\n",
      "  File \"C:\\Users\\mbgm5pc3\\DF_analysis\\DefDAP\\defdap\\inspector_optical.py\", line 110, in goto_grain\n",
      "    self.redraw()\n",
      "  File \"C:\\Users\\mbgm5pc3\\DF_analysis\\DefDAP\\defdap\\inspector_optical.py\", line 237, in redraw\n",
      "    self.selected_ebsd_grain.plot_unit_cell(fig=self.plot.fig, ax=self.unit_cell_axis)\n",
      "  File \"C:\\Users\\mbgm5pc3\\DF_analysis\\DefDAP\\defdap\\ebsd.py\", line 1365, in plot_unit_cell\n",
      "    plot = Quat.plot_unit_cell(self.ref_ori, fig=fig, ax=ax, plot=plot,\n",
      "           ^^^^^^^^^^^^^^^^^^^^^^^^^^^^^^^^^^^^^^^^^^^^^^^^^^^^^^^^^^^^\n",
      "  File \"C:\\Users\\mbgm5pc3\\DF_analysis\\DefDAP\\defdap\\quat.py\", line 557, in plot_unit_cell\n",
      "    eulerAngles = self.euler_angles()\n",
      "                  ^^^^^^^^^^^^^^^^^\n",
      "AttributeError: 'NoneType' object has no attribute 'euler_angles'\n",
      "Traceback (most recent call last):\n",
      "  File \"C:\\Users\\mbgm5pc3\\DF_analysis\\Lib\\site-packages\\matplotlib\\cbook.py\", line 298, in process\n",
      "    func(*args, **kwargs)\n",
      "  File \"C:\\Users\\mbgm5pc3\\DF_analysis\\Lib\\site-packages\\matplotlib\\widgets.py\", line 244, in <lambda>\n",
      "    return self._observers.connect('clicked', lambda event: func(event))\n",
      "                                                            ^^^^^^^^^^^\n",
      "  File \"C:\\Users\\mbgm5pc3\\DF_analysis\\DefDAP\\defdap\\plotting.py\", line 126, in <lambda>\n",
      "    btn.on_clicked(lambda e: click_handler(e, self))\n",
      "                             ^^^^^^^^^^^^^^^^^^^^^^\n",
      "  File \"C:\\Users\\mbgm5pc3\\DF_analysis\\DefDAP\\defdap\\inspector_optical.py\", line 64, in <lambda>\n",
      "    'Next\\nGrain', lambda e, p: self.goto_grain(self.grain_id + 1, p), (div_frac + 0.06, 0.94, 0.05, 0.04))\n",
      "                                ^^^^^^^^^^^^^^^^^^^^^^^^^^^^^^^^^^^^^\n",
      "  File \"C:\\Users\\mbgm5pc3\\DF_analysis\\DefDAP\\defdap\\inspector_optical.py\", line 110, in goto_grain\n",
      "    self.redraw()\n",
      "  File \"C:\\Users\\mbgm5pc3\\DF_analysis\\DefDAP\\defdap\\inspector_optical.py\", line 237, in redraw\n",
      "    self.selected_ebsd_grain.plot_unit_cell(fig=self.plot.fig, ax=self.unit_cell_axis)\n",
      "  File \"C:\\Users\\mbgm5pc3\\DF_analysis\\DefDAP\\defdap\\ebsd.py\", line 1365, in plot_unit_cell\n",
      "    plot = Quat.plot_unit_cell(self.ref_ori, fig=fig, ax=ax, plot=plot,\n",
      "           ^^^^^^^^^^^^^^^^^^^^^^^^^^^^^^^^^^^^^^^^^^^^^^^^^^^^^^^^^^^^\n",
      "  File \"C:\\Users\\mbgm5pc3\\DF_analysis\\DefDAP\\defdap\\quat.py\", line 557, in plot_unit_cell\n",
      "    eulerAngles = self.euler_angles()\n",
      "                  ^^^^^^^^^^^^^^^^^\n",
      "AttributeError: 'NoneType' object has no attribute 'euler_angles'\n",
      "Traceback (most recent call last):\n",
      "  File \"C:\\Users\\mbgm5pc3\\DF_analysis\\Lib\\site-packages\\matplotlib\\cbook.py\", line 298, in process\n",
      "    func(*args, **kwargs)\n",
      "  File \"C:\\Users\\mbgm5pc3\\DF_analysis\\Lib\\site-packages\\matplotlib\\widgets.py\", line 244, in <lambda>\n",
      "    return self._observers.connect('clicked', lambda event: func(event))\n",
      "                                                            ^^^^^^^^^^^\n",
      "  File \"C:\\Users\\mbgm5pc3\\DF_analysis\\DefDAP\\defdap\\plotting.py\", line 126, in <lambda>\n",
      "    btn.on_clicked(lambda e: click_handler(e, self))\n",
      "                             ^^^^^^^^^^^^^^^^^^^^^^\n",
      "  File \"C:\\Users\\mbgm5pc3\\DF_analysis\\DefDAP\\defdap\\inspector_optical.py\", line 64, in <lambda>\n",
      "    'Next\\nGrain', lambda e, p: self.goto_grain(self.grain_id + 1, p), (div_frac + 0.06, 0.94, 0.05, 0.04))\n",
      "                                ^^^^^^^^^^^^^^^^^^^^^^^^^^^^^^^^^^^^^\n",
      "  File \"C:\\Users\\mbgm5pc3\\DF_analysis\\DefDAP\\defdap\\inspector_optical.py\", line 110, in goto_grain\n",
      "    self.redraw()\n",
      "  File \"C:\\Users\\mbgm5pc3\\DF_analysis\\DefDAP\\defdap\\inspector_optical.py\", line 237, in redraw\n",
      "    self.selected_ebsd_grain.plot_unit_cell(fig=self.plot.fig, ax=self.unit_cell_axis)\n",
      "  File \"C:\\Users\\mbgm5pc3\\DF_analysis\\DefDAP\\defdap\\ebsd.py\", line 1365, in plot_unit_cell\n",
      "    plot = Quat.plot_unit_cell(self.ref_ori, fig=fig, ax=ax, plot=plot,\n",
      "           ^^^^^^^^^^^^^^^^^^^^^^^^^^^^^^^^^^^^^^^^^^^^^^^^^^^^^^^^^^^^\n",
      "  File \"C:\\Users\\mbgm5pc3\\DF_analysis\\DefDAP\\defdap\\quat.py\", line 557, in plot_unit_cell\n",
      "    eulerAngles = self.euler_angles()\n",
      "                  ^^^^^^^^^^^^^^^^^\n",
      "AttributeError: 'NoneType' object has no attribute 'euler_angles'\n",
      "Traceback (most recent call last):\n",
      "  File \"C:\\Users\\mbgm5pc3\\DF_analysis\\Lib\\site-packages\\matplotlib\\cbook.py\", line 298, in process\n",
      "    func(*args, **kwargs)\n",
      "  File \"C:\\Users\\mbgm5pc3\\DF_analysis\\Lib\\site-packages\\matplotlib\\widgets.py\", line 244, in <lambda>\n",
      "    return self._observers.connect('clicked', lambda event: func(event))\n",
      "                                                            ^^^^^^^^^^^\n",
      "  File \"C:\\Users\\mbgm5pc3\\DF_analysis\\DefDAP\\defdap\\plotting.py\", line 126, in <lambda>\n",
      "    btn.on_clicked(lambda e: click_handler(e, self))\n",
      "                             ^^^^^^^^^^^^^^^^^^^^^^\n",
      "  File \"C:\\Users\\mbgm5pc3\\DF_analysis\\DefDAP\\defdap\\inspector_optical.py\", line 64, in <lambda>\n",
      "    'Next\\nGrain', lambda e, p: self.goto_grain(self.grain_id + 1, p), (div_frac + 0.06, 0.94, 0.05, 0.04))\n",
      "                                ^^^^^^^^^^^^^^^^^^^^^^^^^^^^^^^^^^^^^\n",
      "  File \"C:\\Users\\mbgm5pc3\\DF_analysis\\DefDAP\\defdap\\inspector_optical.py\", line 110, in goto_grain\n",
      "    self.redraw()\n",
      "  File \"C:\\Users\\mbgm5pc3\\DF_analysis\\DefDAP\\defdap\\inspector_optical.py\", line 237, in redraw\n",
      "    self.selected_ebsd_grain.plot_unit_cell(fig=self.plot.fig, ax=self.unit_cell_axis)\n",
      "  File \"C:\\Users\\mbgm5pc3\\DF_analysis\\DefDAP\\defdap\\ebsd.py\", line 1365, in plot_unit_cell\n",
      "    plot = Quat.plot_unit_cell(self.ref_ori, fig=fig, ax=ax, plot=plot,\n",
      "           ^^^^^^^^^^^^^^^^^^^^^^^^^^^^^^^^^^^^^^^^^^^^^^^^^^^^^^^^^^^^\n",
      "  File \"C:\\Users\\mbgm5pc3\\DF_analysis\\DefDAP\\defdap\\quat.py\", line 557, in plot_unit_cell\n",
      "    eulerAngles = self.euler_angles()\n",
      "                  ^^^^^^^^^^^^^^^^^\n",
      "AttributeError: 'NoneType' object has no attribute 'euler_angles'\n"
     ]
    }
   ],
   "source": [
    "grain_0 = optical_map[0].ebsd_grain"
   ]
  },
  {
   "cell_type": "code",
   "execution_count": null,
   "id": "f24b563b-2936-401b-8d59-b5378cf1f466",
   "metadata": {},
   "outputs": [],
   "source": [
    "print(grain_0)"
   ]
  },
  {
   "cell_type": "code",
   "execution_count": null,
   "id": "17cd1902-bde4-4728-a6ad-5c72f167dc79",
   "metadata": {},
   "outputs": [],
   "source": [
    "fig = plt.figure(figsize=(9, 4))\n",
    "\n",
    "gs = gridspec.GridSpec(1, 2)\n",
    "ax0 = plt.subplot(gs[0])\n",
    "ax1 = plt.subplot(gs[1])\n",
    "slipPlot = GrainPlot(fig=fig, calling_grain=ebsd_map[3], ax=ax0)\n",
    "slipPlot.add_slip_traces()\n",
    "\n",
    "grain = optical_map[0]\n",
    "ax0.axis('off')\n",
    "grain.plot_grain_data(grain_data=grain.data.image, fig=fig, ax=ax1)"
   ]
  },
  {
   "cell_type": "code",
   "execution_count": null,
   "id": "3c1a461c-c4ef-4c23-ab1e-07692d11b4f1",
   "metadata": {},
   "outputs": [],
   "source": [
    "# List slip angles for all the planes, draw a line and get its angle (need to be done within a interaction window), find the best match between \n",
    "# the angles of slip planes and the line we draw\n",
    "def calc_angle_drawn():\n",
    "    \n",
    "lineAngle = 90-np.rad2deg(np.arctan2(self.grainPlot.p2[1]-self.grainPlot.p1[1],\n",
    "                                      self.grainPlot.p2[0]-self.grainPlot.p1[0]))"
   ]
  },
  {
   "cell_type": "code",
   "execution_count": null,
   "id": "2f10bf5c-c696-4295-9fb2-bf520cda68c3",
   "metadata": {},
   "outputs": [],
   "source": [
    "fig = plt.figure(figsize=(13, 4))\n",
    "\n",
    "gs = gridspec.GridSpec(1, 3)\n",
    "ax0 = plt.subplot(gs[0])\n",
    "ax1 = plt.subplot(gs[1])\n",
    "ax2 = plt.subplot(gs[2])\n",
    "\n",
    "grain_information = grain.slip_traces\n",
    "\n",
    "for i,angle in enumerate(grain_information):\n",
    "    if i == 0:\n",
    "        Color = 'red'\n",
    "        slip_plane = 'Basal'\n",
    "    elif i in [1,2,3]:\n",
    "        Color = 'blue'\n",
    "        slip_plane = 'Primastic'\n",
    "    elif i >3:\n",
    "        Color = 'green'\n",
    "        slip_plane = 'Pyramidal'\n",
    "    ax0.text(0, 1 - 0.1 * i, '{0} | Angle: {1}'.format(slip_plane,np.round(angle*180/np.pi,1)), color=Color)\n",
    "\n",
    "ax1.imshow(grain.data.image)\n",
    "\n",
    "\n",
    "ax0.axis('off')\n",
    "ax1.axis('off')\n",
    "ax2.axis('off')"
   ]
  },
  {
   "cell_type": "code",
   "execution_count": null,
   "id": "2b73c99d-973a-40bc-a76c-6d3b6aef2795",
   "metadata": {},
   "outputs": [],
   "source": [
    "#grain.plot_grain_data(grain_data=grain.data.image,ax=ax1)\n",
    "np.shape(grain.data.image)"
   ]
  },
  {
   "cell_type": "code",
   "execution_count": null,
   "id": "0ce037c8-075c-47b2-8ac6-e1b33009459f",
   "metadata": {},
   "outputs": [],
   "source": [
    "type(optical_map[0].extreme_coords)"
   ]
  },
  {
   "cell_type": "code",
   "execution_count": null,
   "id": "983fd2f2-852f-4b5f-8111-dbde514fecfc",
   "metadata": {},
   "outputs": [],
   "source": [
    "optical_map[0].grain_map_data()"
   ]
  },
  {
   "cell_type": "code",
   "execution_count": null,
   "id": "35c6a930-016e-4f67-a42c-930871bf589e",
   "metadata": {},
   "outputs": [],
   "source": [
    "outline = optical_map[0].grain_outline(bg=0, fg=1)"
   ]
  },
  {
   "cell_type": "code",
   "execution_count": null,
   "id": "02299089-56f8-4f27-bfeb-8779e74a89d0",
   "metadata": {},
   "outputs": [],
   "source": [
    "plt.figure()\n",
    "plt.imshow(outline)"
   ]
  },
  {
   "cell_type": "code",
   "execution_count": null,
   "id": "31c25023-146a-4989-a605-4d199a201ac4",
   "metadata": {},
   "outputs": [],
   "source": [
    "outline"
   ]
  },
  {
   "cell_type": "code",
   "execution_count": null,
   "id": "d7cc4b5d-4f98-4d91-a081-536fb3d01ac9",
   "metadata": {},
   "outputs": [],
   "source": [
    "grain_data = optical_map[0].grain_data"
   ]
  },
  {
   "cell_type": "code",
   "execution_count": null,
   "id": "ca7272ff-6d67-476f-8d17-a479fc6bd929",
   "metadata": {},
   "outputs": [],
   "source": [
    "print(grain_data)"
   ]
  },
  {
   "cell_type": "code",
   "execution_count": null,
   "id": "68bfb305-51d4-4787-809a-82f8237969a9",
   "metadata": {},
   "outputs": [],
   "source": [
    "optical_map[0].centre_coords()"
   ]
  },
  {
   "cell_type": "code",
   "execution_count": null,
   "id": "4c538534-ddca-4634-8b16-335dbadc7bb1",
   "metadata": {},
   "outputs": [],
   "source": [
    "np.shape(grain_data)"
   ]
  },
  {
   "cell_type": "code",
   "execution_count": null,
   "id": "c61fde56-5d78-4153-9a17-038d0a91e217",
   "metadata": {},
   "outputs": [],
   "source": [
    "plt.imshow(grain_data)"
   ]
  },
  {
   "cell_type": "code",
   "execution_count": null,
   "id": "c00c2c00-c5c5-4306-9e2d-d2cdb9ab832f",
   "metadata": {},
   "outputs": [],
   "source": [
    "ebsd_map[0].slip_traces"
   ]
  },
  {
   "cell_type": "code",
   "execution_count": null,
   "id": "05bce901-c239-4aac-a4b9-60b70d6414e9",
   "metadata": {},
   "outputs": [],
   "source": [
    "Plot.add_grain_numbers(ebsd_map)"
   ]
  },
  {
   "cell_type": "code",
   "execution_count": null,
   "id": "1a3dda64-4162-4cb5-9a44-8cd657830b88",
   "metadata": {},
   "outputs": [],
   "source": [
    "ebsd_map.add_grain_numbers()"
   ]
  },
  {
   "cell_type": "code",
   "execution_count": null,
   "id": "68bcc855-9aa3-4887-ab1a-94c773a54504",
   "metadata": {},
   "outputs": [],
   "source": [
    "np.shape(grain)"
   ]
  },
  {
   "cell_type": "code",
   "execution_count": null,
   "id": "71b8f64c-85cf-46b8-bb3f-244fc53133bb",
   "metadata": {},
   "outputs": [],
   "source": [
    "grain"
   ]
  },
  {
   "cell_type": "code",
   "execution_count": null,
   "id": "72a9a7c9-b8dd-4556-b24d-14269f524df5",
   "metadata": {},
   "outputs": [],
   "source": [
    "\n",
    "\n"
   ]
  },
  {
   "cell_type": "code",
   "execution_count": null,
   "id": "8cdd7a0e-8a1b-468f-a03e-a895bc1ba990",
   "metadata": {},
   "outputs": [],
   "source": [
    "optical_map.grain_inspector()"
   ]
  },
  {
   "cell_type": "code",
   "execution_count": null,
   "id": "8965788e-e950-4db6-a0fb-e29b4c4583e5",
   "metadata": {},
   "outputs": [],
   "source": []
  },
  {
   "cell_type": "code",
   "execution_count": null,
   "id": "608d59f3-b6fa-48d8-84e8-c3446694c1f2",
   "metadata": {},
   "outputs": [],
   "source": []
  }
 ],
 "metadata": {
  "kernelspec": {
   "display_name": "Python 3 (ipykernel)",
   "language": "python",
   "name": "python3"
  },
  "language_info": {
   "codemirror_mode": {
    "name": "ipython",
    "version": 3
   },
   "file_extension": ".py",
   "mimetype": "text/x-python",
   "name": "python",
   "nbconvert_exporter": "python",
   "pygments_lexer": "ipython3",
   "version": "3.12.6"
  }
 },
 "nbformat": 4,
 "nbformat_minor": 5
}
