{
 "cells": [
  {
   "cell_type": "code",
   "execution_count": null,
   "id": "a167425e-fc5d-4f0d-ad30-96ab225104a9",
   "metadata": {},
   "outputs": [],
   "source": [
    "from defdap import ebsd, optical\n",
    "\n",
    "%matplotlib tk"
   ]
  },
  {
   "cell_type": "code",
   "execution_count": null,
   "id": "a9b4bfb9",
   "metadata": {},
   "outputs": [],
   "source": [
    "pwd"
   ]
  },
  {
   "cell_type": "code",
   "execution_count": null,
   "id": "6ae24a9b-6842-4540-b36b-3795c1d85f05",
   "metadata": {},
   "outputs": [],
   "source": [
    "path = \"../tests/data/\"\n",
    "fname = \"F5-pol-Cy50.png\"\n",
    "# metadata = \"test-meta-data.xlsx\"\n",
    "optical_map = optical.Map(file_name = path + fname)"
   ]
  },
  {
   "cell_type": "code",
   "execution_count": 4,
   "id": "8bcb125c-55be-4745-a22c-3578cef3f7ee",
   "metadata": {},
   "outputs": [],
   "source": [
    "optical_map.set_scale(2.105) #um/pixel"
   ]
  },
  {
   "cell_type": "code",
   "execution_count": 5,
   "id": "4387f479-785f-4639-b778-b60148f849cb",
   "metadata": {},
   "outputs": [],
   "source": [
    "#Opt.set_crop (left = 10, right = 10, top = 10, bottom = 10)"
   ]
  },
  {
   "cell_type": "code",
   "execution_count": null,
   "id": "de922a4a-44ff-45a9-8f1d-2fb99297b698",
   "metadata": {},
   "outputs": [],
   "source": [
    "optical_map.plot_map('image', plot_scale_bar=True)"
   ]
  },
  {
   "cell_type": "code",
   "execution_count": null,
   "id": "a0eaeccb-5e58-428e-b448-903ed9bb1942",
   "metadata": {},
   "outputs": [],
   "source": [
    "ebsd_map = ebsd.Map(path + \"f-5-test-region\")"
   ]
  },
  {
   "cell_type": "code",
   "execution_count": null,
   "id": "2a53dd86",
   "metadata": {},
   "outputs": [],
   "source": [
    "ebsd_map.data.generate('grain_boundaries', misori_tol=10)\n",
    "ebsd_map.data.generate('grains', min_grain_size=200)"
   ]
  },
  {
   "cell_type": "code",
   "execution_count": null,
   "id": "df57b528",
   "metadata": {},
   "outputs": [],
   "source": [
    "ebsd_map.plot_map('orientation', 'IPF_x', plot_scale_bar=True)"
   ]
  },
  {
   "cell_type": "code",
   "execution_count": 9,
   "id": "bb9b6f7c-a22a-4ca5-83be-604b40ae67f8",
   "metadata": {},
   "outputs": [],
   "source": [
    "ebsd_map.set_homog_point(map_name=\"orientation\", component='IPF_z')\n",
    "optical_map.set_homog_point()"
   ]
  },
  {
   "cell_type": "code",
   "execution_count": null,
   "id": "e8032bfb-1f04-4ffc-9ad4-20a47b3bb9e9",
   "metadata": {},
   "outputs": [],
   "source": [
    "print(ebsd_map.frame.homog_points)\n",
    "print(optical_map.frame.homog_points)"
   ]
  },
  {
   "cell_type": "code",
   "execution_count": 10,
   "id": "4083f81f",
   "metadata": {},
   "outputs": [],
   "source": [
    "ebsd_map.frame.homog_points = [\n",
    "    (314, 533), \n",
    "    (543, 242), \n",
    "    (97, 143)\n",
    "]\n",
    "optical_map.frame.homog_points = [\n",
    "    (467, 653), \n",
    "    (806, 239), \n",
    "    (180, 94)\n",
    "]"
   ]
  },
  {
   "cell_type": "code",
   "execution_count": 11,
   "id": "df2355a3",
   "metadata": {},
   "outputs": [],
   "source": [
    "optical_map.link_ebsd_map(ebsd_map, transform_type=\"affine\")"
   ]
  },
  {
   "cell_type": "code",
   "execution_count": null,
   "id": "f3868080",
   "metadata": {},
   "outputs": [],
   "source": [
    "optical_map.data.generate('grains', min_grain_size=10, algorithm='warp')"
   ]
  },
  {
   "cell_type": "code",
   "execution_count": null,
   "id": "95a897d4",
   "metadata": {},
   "outputs": [],
   "source": [
    "optical_map.plot_map('image', plot_scale_bar=True, plot_gbs='pixel')"
   ]
  },
  {
   "cell_type": "code",
   "execution_count": null,
   "id": "45efae0c",
   "metadata": {},
   "outputs": [],
   "source": [
    "# data available for map\n",
    "print(optical_map.data)\n",
    "# data available for grain\n",
    "print(optical_map[20].data)"
   ]
  },
  {
   "cell_type": "code",
   "execution_count": null,
   "id": "a9a65d90",
   "metadata": {},
   "outputs": [],
   "source": [
    "optical_map.locate_grain()"
   ]
  },
  {
   "cell_type": "code",
   "execution_count": null,
   "id": "b955afea",
   "metadata": {},
   "outputs": [],
   "source": [
    "grain = optical_map[20]\n",
    "grain.plot_grain_data(grain_data=grain.data.image)"
   ]
  },
  {
   "cell_type": "code",
   "execution_count": null,
   "id": "4a647a29",
   "metadata": {},
   "outputs": [],
   "source": []
  }
 ],
 "metadata": {
  "kernelspec": {
   "display_name": "Python (py311)",
   "language": "python",
   "name": "py311"
  },
  "language_info": {
   "codemirror_mode": {
    "name": "ipython",
    "version": 3
   },
   "file_extension": ".py",
   "mimetype": "text/x-python",
   "name": "python",
   "nbconvert_exporter": "python",
   "pygments_lexer": "ipython3",
   "version": "3.11.7"
  }
 },
 "nbformat": 4,
 "nbformat_minor": 5
}
